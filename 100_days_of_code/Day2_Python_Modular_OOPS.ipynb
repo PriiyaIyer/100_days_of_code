{
 "cells": [
  {
   "cell_type": "markdown",
   "id": "46467509",
   "metadata": {},
   "source": [
    "# Functions"
   ]
  },
  {
   "cell_type": "code",
   "execution_count": 4,
   "id": "b6863fae",
   "metadata": {},
   "outputs": [],
   "source": [
    "# defining the fucntion\n",
    "\n",
    "def say_hello():\n",
    "    print ('hello')"
   ]
  },
  {
   "cell_type": "code",
   "execution_count": 6,
   "id": "6b254924",
   "metadata": {},
   "outputs": [
    {
     "name": "stdout",
     "output_type": "stream",
     "text": [
      "hello\n",
      "hello\n",
      "hello\n"
     ]
    }
   ],
   "source": [
    "# Calling the function\n",
    "\n",
    "say_hello()\n",
    "say_hello()\n",
    "say_hello()"
   ]
  },
  {
   "cell_type": "code",
   "execution_count": 9,
   "id": "c539196c",
   "metadata": {},
   "outputs": [
    {
     "name": "stdout",
     "output_type": "stream",
     "text": [
      "10\n"
     ]
    }
   ],
   "source": [
    "# default/ keyworded arguments\n",
    "def double_the_number(num=5):\n",
    "    return num * 2\n",
    "\n",
    "print(double_the_number())"
   ]
  },
  {
   "cell_type": "code",
   "execution_count": null,
   "id": "d2f04aea",
   "metadata": {},
   "outputs": [],
   "source": [
    "# positional arguments - arg1 and arg2\n",
    "# keyworded arguments - arg3\n",
    "\n",
    "'''\n",
    "def function_name(arg1, arg2, argn=3, *args, **kwargs):\n",
    "    print(\"This is a function.\")\n",
    "    # Function body here\n",
    "    return value\n",
    "'''"
   ]
  },
  {
   "cell_type": "markdown",
   "id": "236299bc",
   "metadata": {},
   "source": [
    "# Lambda expression or anonymous functions"
   ]
  },
  {
   "cell_type": "code",
   "execution_count": 10,
   "id": "27c4b7e8",
   "metadata": {},
   "outputs": [
    {
     "data": {
      "text/plain": [
       "4"
      ]
     },
     "execution_count": 10,
     "metadata": {},
     "output_type": "execute_result"
    }
   ],
   "source": [
    "def square(num):\n",
    "    result = num**2\n",
    "    return result\n",
    "square(2)"
   ]
  },
  {
   "cell_type": "code",
   "execution_count": 12,
   "id": "c31dd5f9",
   "metadata": {},
   "outputs": [
    {
     "data": {
      "text/plain": [
       "100"
      ]
     },
     "execution_count": 12,
     "metadata": {},
     "output_type": "execute_result"
    }
   ],
   "source": [
    "def square1(num): return num**2\n",
    "square1(10)"
   ]
  },
  {
   "cell_type": "code",
   "execution_count": 14,
   "id": "00e9aa26",
   "metadata": {},
   "outputs": [
    {
     "data": {
      "text/plain": [
       "16"
      ]
     },
     "execution_count": 14,
     "metadata": {},
     "output_type": "execute_result"
    }
   ],
   "source": [
    "square_lambda = lambda num: num**2\n",
    "square_lambda(4)"
   ]
  },
  {
   "cell_type": "code",
   "execution_count": 15,
   "id": "6c2337db",
   "metadata": {},
   "outputs": [
    {
     "data": {
      "text/plain": [
       "5"
      ]
     },
     "execution_count": 15,
     "metadata": {},
     "output_type": "execute_result"
    }
   ],
   "source": [
    "add_lambda = lambda a,b: a+b\n",
    "add_lambda(2,3)"
   ]
  },
  {
   "cell_type": "markdown",
   "id": "4d3234bc",
   "metadata": {},
   "source": [
    "# Map"
   ]
  },
  {
   "cell_type": "code",
   "execution_count": null,
   "id": "d02d70fd",
   "metadata": {},
   "outputs": [],
   "source": [
    "# map is used to save effort on having to create manual for loops. \n",
    "# map() can be applied to more than one iterable. \n",
    "# The iterables have to have the same length.\n",
    "# map(function, sequence)"
   ]
  },
  {
   "cell_type": "code",
   "execution_count": 16,
   "id": "f016484f",
   "metadata": {},
   "outputs": [],
   "source": [
    "def fahrenheit(T):\n",
    "    return ((float(9)/5)*T + 32)\n",
    "def celsius(T):\n",
    "    return (float(5)/9)*(T-32)\n",
    "    \n",
    "temp = [0, 22.5, 40,100]"
   ]
  },
  {
   "cell_type": "code",
   "execution_count": 20,
   "id": "06a910b1",
   "metadata": {},
   "outputs": [
    {
     "name": "stdout",
     "output_type": "stream",
     "text": [
      "<map object at 0x000001E5DA6B9E80>\n"
     ]
    }
   ],
   "source": [
    "F_temps = map(fahrenheit, temp)\n",
    "\n",
    "#Show\n",
    "F_temps"
   ]
  },
  {
   "cell_type": "code",
   "execution_count": 19,
   "id": "a792898f",
   "metadata": {},
   "outputs": [
    {
     "data": {
      "text/plain": [
       "<map at 0x1e5d9058160>"
      ]
     },
     "execution_count": 19,
     "metadata": {},
     "output_type": "execute_result"
    }
   ],
   "source": [
    "# Convert back\n",
    "map(celsius, F_temps)"
   ]
  },
  {
   "cell_type": "code",
   "execution_count": 21,
   "id": "21902f91",
   "metadata": {},
   "outputs": [
    {
     "name": "stdout",
     "output_type": "stream",
     "text": [
      "[-17.22222222222222, -16.666666666666668, -16.11111111111111, -15.555555555555557]\n"
     ]
    }
   ],
   "source": [
    "# using map and lambda\n",
    "a = [1,2,3,4]\n",
    "b = [5,6,7,8]\n",
    "c = [9,10,11,12]\n",
    "\n",
    "result= map(lambda x: (5.0/9)*(x - 32),a)\n",
    "print(list(result))"
   ]
  },
  {
   "cell_type": "markdown",
   "id": "65ecd3df",
   "metadata": {},
   "source": [
    "# Object oriented programming"
   ]
  },
  {
   "cell_type": "code",
   "execution_count": 27,
   "id": "86e00a8b",
   "metadata": {},
   "outputs": [
    {
     "name": "stdout",
     "output_type": "stream",
     "text": [
      "<class '__main__.Sample'>\n"
     ]
    }
   ],
   "source": [
    "# Class, objects, attributes, methods\n",
    "\n",
    "# Create a new object type called Sample\n",
    "class Sample(object):\n",
    "    pass\n",
    "\n",
    "# Instance of Sample\n",
    "x = Sample()\n",
    "\n",
    "print(type(x))"
   ]
  },
  {
   "cell_type": "code",
   "execution_count": 30,
   "id": "0c230df5",
   "metadata": {},
   "outputs": [],
   "source": [
    "# Attributes\n",
    "# The syntax for creating an attribute is:\n",
    "# self.attribute = something\n",
    "\n",
    "# There is a special method called __init__() which is used to initialize the attributes of an object. "
   ]
  },
  {
   "cell_type": "code",
   "execution_count": 32,
   "id": "eb8ef824",
   "metadata": {},
   "outputs": [],
   "source": [
    "class Dog(object):\n",
    "    def __init__(self,breed): #self shoud be the first argument always in the __init__ method.\n",
    "        self.breed = breed\n",
    "        \n",
    "sam = Dog(breed='Lab') # Instance 1. Copy one of the class Dog\n",
    "frank = Dog(breed='Huskie') # Instance 2. Copy two of the class Dog"
   ]
  },
  {
   "cell_type": "code",
   "execution_count": 33,
   "id": "7b8c5e91",
   "metadata": {},
   "outputs": [
    {
     "data": {
      "text/plain": [
       "'Lab'"
      ]
     },
     "execution_count": 33,
     "metadata": {},
     "output_type": "execute_result"
    }
   ],
   "source": [
    "sam.breed"
   ]
  },
  {
   "cell_type": "code",
   "execution_count": 34,
   "id": "844e9be6",
   "metadata": {},
   "outputs": [
    {
     "data": {
      "text/plain": [
       "'Huskie'"
      ]
     },
     "execution_count": 34,
     "metadata": {},
     "output_type": "execute_result"
    }
   ],
   "source": [
    "frank.breed"
   ]
  },
  {
   "cell_type": "code",
   "execution_count": 38,
   "id": "1313a7ed",
   "metadata": {},
   "outputs": [
    {
     "name": "stdout",
     "output_type": "stream",
     "text": [
      "Radius is:  1\n",
      "Area is:  3.14\n",
      "\n",
      "Radius is:  2\n",
      "Area is:  12.56\n"
     ]
    }
   ],
   "source": [
    "class Circle(object):\n",
    "    pi = 3.14 #This is a Class-Object attribute.\n",
    "              #It remains same for all the methods within the class\n",
    "\n",
    "    # Circle get instantiated with a radius (default is 1)\n",
    "    def __init__(self, radius=1):\n",
    "        self.radius = radius \n",
    "\n",
    "    # Area method calculates the area. Note the use of self.\n",
    "    def area(self):\n",
    "        return self.radius * self.radius * Circle.pi\n",
    "\n",
    "    # Method for resetting Radius\n",
    "    def setRadius(self, radius):\n",
    "        self.radius = radius\n",
    "\n",
    "    # Method for getting radius (Same as just calling .radius)\n",
    "    def getRadius(self):\n",
    "        return self.radius\n",
    "\n",
    "\n",
    "c = Circle()\n",
    "print ('Radius is: ',c.getRadius())\n",
    "print ('Area is: ',c.area())\n",
    "print()\n",
    "c.setRadius(2)\n",
    "print ('Radius is: ',c.getRadius())\n",
    "print ('Area is: ',c.area())"
   ]
  },
  {
   "cell_type": "code",
   "execution_count": 39,
   "id": "6ea2c4d0",
   "metadata": {},
   "outputs": [
    {
     "name": "stdout",
     "output_type": "stream",
     "text": [
      "instance method called <__main__.MyClass object at 0x000001E5DA486730>\n",
      "class method called <class '__main__.MyClass'>\n",
      "static method called\n"
     ]
    }
   ],
   "source": [
    "# Instance vs Class vs Static Methods\n",
    "class MyClass:\n",
    "    def instance_method(self):\n",
    "        print('instance method called', self)\n",
    "\n",
    "    @classmethod\n",
    "    def class_method(cls):\n",
    "        print('class method called', cls)\n",
    "\n",
    "    @staticmethod\n",
    "    def static_method():\n",
    "        print('static method called')\n",
    "\n",
    "obj = MyClass()\n",
    "\n",
    "obj.instance_method()\n",
    "MyClass.class_method()\n",
    "MyClass.static_method()"
   ]
  },
  {
   "cell_type": "code",
   "execution_count": 42,
   "id": "1d3572b8",
   "metadata": {},
   "outputs": [
    {
     "name": "stdout",
     "output_type": "stream",
     "text": [
      "3.0\n",
      "5.0\n"
     ]
    }
   ],
   "source": [
    "# Can you write a function square_root having default value of input a=9 and find the square-root of the same.\n",
    "\n",
    "import math\n",
    "\n",
    "def square_root(a=9):\n",
    "    return math.sqrt(a)\n",
    "\n",
    "print(square_root())\n",
    "print(square_root(25))"
   ]
  },
  {
   "cell_type": "code",
   "execution_count": 47,
   "id": "dffa74ce",
   "metadata": {},
   "outputs": [
    {
     "data": {
      "text/plain": [
       "(25, 150)"
      ]
     },
     "execution_count": 47,
     "metadata": {},
     "output_type": "execute_result"
    }
   ],
   "source": [
    "# Can you write a function function_tuple that takes in two numbers a and b and returns the sum as well as the product of these numbers\n",
    "\n",
    "def function_tuple (a, b):\n",
    "    total = a+b\n",
    "    product = a*b\n",
    "    return(total, product)\n",
    "\n",
    "\n",
    "function_tuple(10, 15)"
   ]
  },
  {
   "cell_type": "code",
   "execution_count": 50,
   "id": "f97b6976",
   "metadata": {},
   "outputs": [
    {
     "data": {
      "text/plain": [
       "40"
      ]
     },
     "execution_count": 50,
     "metadata": {},
     "output_type": "execute_result"
    }
   ],
   "source": [
    "# Can you write a lambda function to add two numbers a and b.\n",
    "\n",
    "add_lambda = lambda a,b: a+b\n",
    "\n",
    "add_lambda(25, 15)"
   ]
  }
 ],
 "metadata": {
  "kernelspec": {
   "display_name": "Python 3 (ipykernel)",
   "language": "python",
   "name": "python3"
  },
  "language_info": {
   "codemirror_mode": {
    "name": "ipython",
    "version": 3
   },
   "file_extension": ".py",
   "mimetype": "text/x-python",
   "name": "python",
   "nbconvert_exporter": "python",
   "pygments_lexer": "ipython3",
   "version": "3.9.12"
  }
 },
 "nbformat": 4,
 "nbformat_minor": 5
}
