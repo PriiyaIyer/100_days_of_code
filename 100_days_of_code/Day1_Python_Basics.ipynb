{
 "cells": [
  {
   "cell_type": "code",
   "execution_count": 1,
   "id": "bb1fae70",
   "metadata": {},
   "outputs": [
    {
     "name": "stdout",
     "output_type": "stream",
     "text": [
      "Hello World\n"
     ]
    }
   ],
   "source": [
    "print('Hello World')"
   ]
  },
  {
   "cell_type": "markdown",
   "id": "6bfc8d59",
   "metadata": {},
   "source": [
    "# Strings"
   ]
  },
  {
   "cell_type": "code",
   "execution_count": 3,
   "id": "2355ff97",
   "metadata": {},
   "outputs": [
    {
     "name": "stdout",
     "output_type": "stream",
     "text": [
      "New York\n",
      "<class 'str'>\n",
      "8\n"
     ]
    }
   ],
   "source": [
    "# Assigning a string to a variable\n",
    "\n",
    "a = 'New York'\n",
    "print(a)\n",
    "\n",
    "print(type(a))\n",
    "print(len(a))"
   ]
  },
  {
   "cell_type": "code",
   "execution_count": 4,
   "id": "a81d32a2",
   "metadata": {},
   "outputs": [
    {
     "name": "stdout",
     "output_type": "stream",
     "text": [
      "H\n",
      "\n",
      "e\n"
     ]
    }
   ],
   "source": [
    "# String indexing\n",
    "\n",
    "s = 'Hello World'\n",
    "\n",
    "print(s[0])\n",
    "print()\n",
    "print(s[1])"
   ]
  },
  {
   "cell_type": "code",
   "execution_count": 5,
   "id": "2b1a3953",
   "metadata": {},
   "outputs": [
    {
     "name": "stdout",
     "output_type": "stream",
     "text": [
      "Hello World\n"
     ]
    }
   ],
   "source": [
    "# String concatenation\n",
    "\n",
    "s1 = \"Hello\"\n",
    "s2 = \"World\"\n",
    "\n",
    "print(s1 + \" \" + s2)"
   ]
  },
  {
   "cell_type": "code",
   "execution_count": 11,
   "id": "c705407d",
   "metadata": {},
   "outputs": [
    {
     "name": "stdout",
     "output_type": "stream",
     "text": [
      "hello hello hello \n",
      "hello_hello_hello_\n",
      "--------------------\n"
     ]
    }
   ],
   "source": [
    "# String repetition\n",
    "\n",
    "print(\"hello \"*3)\n",
    "print(\"hello_\"*3)\n",
    "print(\"-\"*20)"
   ]
  },
  {
   "cell_type": "code",
   "execution_count": 14,
   "id": "43b88a33",
   "metadata": {},
   "outputs": [
    {
     "name": "stdout",
     "output_type": "stream",
     "text": [
      "a\n",
      "e Wor\n",
      "Worl\n"
     ]
    }
   ],
   "source": [
    "# String Slicing and Indexing - used for getting sub strings\n",
    "\n",
    "s = \"Namaste World\"\n",
    "\n",
    "print(s[1])     # indexing\n",
    "print(s[6:11])  # slicing (upto and not including 11)\n",
    "print(s[-5:-1])"
   ]
  },
  {
   "cell_type": "code",
   "execution_count": 15,
   "id": "1db46672",
   "metadata": {},
   "outputs": [
    {
     "name": "stdout",
     "output_type": "stream",
     "text": [
      "True\n"
     ]
    }
   ],
   "source": [
    "# test substring membership\n",
    "\n",
    "print(\"Wor\" in s)"
   ]
  },
  {
   "cell_type": "code",
   "execution_count": 16,
   "id": "7409e662",
   "metadata": {},
   "outputs": [
    {
     "name": "stdout",
     "output_type": "stream",
     "text": [
      "NAMASTE WORLD\n",
      "namaste world\n"
     ]
    }
   ],
   "source": [
    "# Built-in string functions\n",
    "\n",
    "print(s.upper())\n",
    "print(s.lower())"
   ]
  },
  {
   "cell_type": "code",
   "execution_count": 17,
   "id": "77a621aa",
   "metadata": {},
   "outputs": [
    {
     "name": "stdout",
     "output_type": "stream",
     "text": [
      "My name is Nancy, my age is 22, and it is True that I am married\n",
      "My name is Nancy, my age is 22, and it is True that I am married\n"
     ]
    }
   ],
   "source": [
    "# Print formatting\n",
    "\n",
    "name = \"Nancy\"\n",
    "age = 22\n",
    "married = True\n",
    "\n",
    "print(\"My name is %s, my age is %s, and it is %s that I am married\" % (name, age, married))\n",
    "\n",
    "print(\"My name is {}, my age is {}, and it is {} that I am married\".format(name, age, married))"
   ]
  },
  {
   "cell_type": "code",
   "execution_count": 18,
   "id": "8075d8f2",
   "metadata": {},
   "outputs": [
    {
     "name": "stdout",
     "output_type": "stream",
     "text": [
      "3\n",
      "1\n",
      "4\n",
      "1.5\n"
     ]
    }
   ],
   "source": [
    "# Arithmetic operations\n",
    "\n",
    "# Addition\n",
    "print(2+1)\n",
    "\n",
    "# Subtraction\n",
    "print(2-1)\n",
    "\n",
    "# Multiplication\n",
    "print(2*2)\n",
    "\n",
    "# Division\n",
    "print(3/2)"
   ]
  },
  {
   "cell_type": "code",
   "execution_count": 19,
   "id": "12fc0e4d",
   "metadata": {},
   "outputs": [
    {
     "data": {
      "text/plain": [
       "8"
      ]
     },
     "execution_count": 19,
     "metadata": {},
     "output_type": "execute_result"
    }
   ],
   "source": [
    "# Powers\n",
    "\n",
    "2**3"
   ]
  },
  {
   "cell_type": "code",
   "execution_count": 22,
   "id": "ec3467ef",
   "metadata": {},
   "outputs": [
    {
     "name": "stdout",
     "output_type": "stream",
     "text": [
      "105\n",
      "156\n"
     ]
    }
   ],
   "source": [
    "# Order of Operations followed in Python\n",
    "\n",
    "print( 2 + 10 * 10 + 3 )\n",
    "\n",
    "# using parenthesis to specify the order\n",
    "print((2+10) * (10+3))"
   ]
  },
  {
   "cell_type": "code",
   "execution_count": 25,
   "id": "2c9f71e5",
   "metadata": {},
   "outputs": [
    {
     "data": {
      "text/plain": [
       "10"
      ]
     },
     "execution_count": 25,
     "metadata": {},
     "output_type": "execute_result"
    }
   ],
   "source": [
    "# Variable assignment\n",
    "a =5\n",
    "a+a"
   ]
  },
  {
   "cell_type": "code",
   "execution_count": 26,
   "id": "ce2cf71a",
   "metadata": {},
   "outputs": [
    {
     "data": {
      "text/plain": [
       "10"
      ]
     },
     "execution_count": 26,
     "metadata": {},
     "output_type": "execute_result"
    }
   ],
   "source": [
    "a = 10     # reassignment\n",
    "a"
   ]
  },
  {
   "cell_type": "code",
   "execution_count": 32,
   "id": "a632a85d",
   "metadata": {},
   "outputs": [
    {
     "name": "stdout",
     "output_type": "stream",
     "text": [
      "hello Priiya\n",
      "hello Priiya\n"
     ]
    }
   ],
   "source": [
    "# store the word hello in my_string. print the my_string + name.\n",
    "\n",
    "my_string = 'hello'\n",
    "print(my_string + \" Priiya\")\n",
    "\n",
    "name = 'Priiya'\n",
    "print(my_string + ' ' + name)"
   ]
  },
  {
   "cell_type": "code",
   "execution_count": 34,
   "id": "e2ae0e20",
   "metadata": {},
   "outputs": [
    {
     "name": "stdout",
     "output_type": "stream",
     "text": [
      "17.5\n"
     ]
    }
   ],
   "source": [
    "# given the numbers stored in variables a and b. Can you write a simple code to compute the mean of these two numbers and assign it to a variable mean.\n",
    "\n",
    "a = 10\n",
    "b = 25\n",
    "mean = (a + b)/2\n",
    "print(mean)"
   ]
  },
  {
   "cell_type": "markdown",
   "id": "c8fd2c7e",
   "metadata": {},
   "source": [
    "# Data Types and Data Structures"
   ]
  },
  {
   "cell_type": "code",
   "execution_count": 38,
   "id": "da00d5ae",
   "metadata": {},
   "outputs": [
    {
     "name": "stdout",
     "output_type": "stream",
     "text": [
      "15 <class 'int'>\n",
      "32.5 <class 'float'>\n",
      "4000.0 <class 'float'>\n",
      "Apple <class 'str'>\n",
      "True <class 'bool'>\n"
     ]
    }
   ],
   "source": [
    "a = 15\n",
    "b = 32.5\n",
    "c = 4E3\n",
    "d = \"Apple\"\n",
    "e = True\n",
    "\n",
    "print(a, type(a))\n",
    "print(b, type(b))\n",
    "print(c, type(c))\n",
    "print(d, type(d))\n",
    "print(e, type(e))"
   ]
  },
  {
   "cell_type": "markdown",
   "id": "35e5485a",
   "metadata": {},
   "source": [
    "# List"
   ]
  },
  {
   "cell_type": "code",
   "execution_count": 39,
   "id": "c0e1acdf",
   "metadata": {},
   "outputs": [
    {
     "data": {
      "text/plain": [
       "[1, 2, 3]"
      ]
     },
     "execution_count": 39,
     "metadata": {},
     "output_type": "execute_result"
    }
   ],
   "source": [
    "my_list = [1,2,3]\n",
    "my_list"
   ]
  },
  {
   "cell_type": "code",
   "execution_count": 41,
   "id": "2707a20e",
   "metadata": {},
   "outputs": [
    {
     "data": {
      "text/plain": [
       "['an apple', 22, 100.232, 'o']"
      ]
     },
     "execution_count": 41,
     "metadata": {},
     "output_type": "execute_result"
    }
   ],
   "source": [
    "my_list = ['an apple', 22, 100.232, 'o']\n",
    "my_list"
   ]
  },
  {
   "cell_type": "code",
   "execution_count": 42,
   "id": "a3414dcb",
   "metadata": {},
   "outputs": [
    {
     "data": {
      "text/plain": [
       "4"
      ]
     },
     "execution_count": 42,
     "metadata": {},
     "output_type": "execute_result"
    }
   ],
   "source": [
    "len(my_list)"
   ]
  },
  {
   "cell_type": "code",
   "execution_count": 44,
   "id": "7859b18a",
   "metadata": {},
   "outputs": [
    {
     "data": {
      "text/plain": [
       "[1, 2.3, ['a', 'b'], 'New York', 4.5]"
      ]
     },
     "execution_count": 44,
     "metadata": {},
     "output_type": "execute_result"
    }
   ],
   "source": [
    "# Adding and extending elements \n",
    "\n",
    "l = [1, 2.3, ['a', 'b'], 'New York']\n",
    "l.append(4.5)\n",
    "l"
   ]
  },
  {
   "cell_type": "code",
   "execution_count": 45,
   "id": "96e243cb",
   "metadata": {},
   "outputs": [
    {
     "data": {
      "text/plain": [
       "[1, 2.3, ['a', 'b'], 'New York', 4.5, [7, 8, 9]]"
      ]
     },
     "execution_count": 45,
     "metadata": {},
     "output_type": "execute_result"
    }
   ],
   "source": [
    "l. append([7,8,9])\n",
    "l"
   ]
  },
  {
   "cell_type": "code",
   "execution_count": 50,
   "id": "634c6c5f",
   "metadata": {},
   "outputs": [
    {
     "data": {
      "text/plain": [
       "[1, 2, 3, 4, 5, 6]"
      ]
     },
     "execution_count": 50,
     "metadata": {},
     "output_type": "execute_result"
    }
   ],
   "source": [
    "m = [1, 2, 3]\n",
    "m.extend([4,5,6])\n",
    "m"
   ]
  },
  {
   "cell_type": "code",
   "execution_count": 51,
   "id": "1b9b9648",
   "metadata": {},
   "outputs": [
    {
     "data": {
      "text/plain": [
       "[1, 2, 3, 4, 5, 8, 6]"
      ]
     },
     "execution_count": 51,
     "metadata": {},
     "output_type": "execute_result"
    }
   ],
   "source": [
    "m.insert(5, 8)\n",
    "m"
   ]
  },
  {
   "cell_type": "code",
   "execution_count": 47,
   "id": "4046bbfa",
   "metadata": {},
   "outputs": [
    {
     "name": "stdout",
     "output_type": "stream",
     "text": [
      "[0, 1, 2, 3, 4, 5, 6, 7, 8, 9]\n",
      "elements from index 4 to 7: [4, 5, 6]\n",
      "alternate elements, starting at index 0: [0, 2, 4, 6, 8]\n",
      "every third element, starting at index 1: [1, 4, 7]\n"
     ]
    }
   ],
   "source": [
    "# slicing\n",
    "\n",
    "lst = list(range(10))\n",
    "print(lst)\n",
    "\n",
    "print(\"elements from index 4 to 7:\", lst[4:7])\n",
    "print(\"alternate elements, starting at index 0:\", lst[0::2]) \n",
    "print(\"every third element, starting at index 1:\", lst[1::3])"
   ]
  },
  {
   "cell_type": "markdown",
   "id": "612304aa",
   "metadata": {},
   "source": [
    "# Dictionaries"
   ]
  },
  {
   "cell_type": "code",
   "execution_count": 58,
   "id": "934d93d9",
   "metadata": {},
   "outputs": [
    {
     "data": {
      "text/plain": [
       "{'key1': 'value1', 'key2': 40}"
      ]
     },
     "execution_count": 58,
     "metadata": {},
     "output_type": "execute_result"
    }
   ],
   "source": [
    "my_dict = {'key1':'value1','key2':40}\n",
    "my_dict"
   ]
  },
  {
   "cell_type": "code",
   "execution_count": 60,
   "id": "5e3e66b7",
   "metadata": {},
   "outputs": [
    {
     "name": "stdout",
     "output_type": "stream",
     "text": [
      "40\n",
      "123\n",
      "23 40\n"
     ]
    }
   ],
   "source": [
    "print(my_dict['key2'])\n",
    "\n",
    "my_dict['key1'] = 123\n",
    "print(my_dict['key1'])\n",
    "\n",
    "my_dict['key1'] = my_dict['key1'] - 100\n",
    "print(my_dict['key1'], my_dict['key2'])"
   ]
  },
  {
   "cell_type": "code",
   "execution_count": 62,
   "id": "fafed842",
   "metadata": {},
   "outputs": [
    {
     "name": "stdout",
     "output_type": "stream",
     "text": [
      "3\n"
     ]
    }
   ],
   "source": [
    "my_dict['key1'] -= 10\n",
    "print(my_dict['key1'])"
   ]
  },
  {
   "cell_type": "code",
   "execution_count": 65,
   "id": "c2442eb6",
   "metadata": {},
   "outputs": [
    {
     "name": "stdout",
     "output_type": "stream",
     "text": [
      "{}\n",
      "{'animal': 'Dog'}\n"
     ]
    }
   ],
   "source": [
    "#  Create a empty dicts. Create a new key called animal and assign a value 'Dog' to it\n",
    "d = {}\n",
    "print(d)\n",
    "d['animal'] = 'Dog'\n",
    "print(d)"
   ]
  },
  {
   "cell_type": "markdown",
   "id": "95f5fab5",
   "metadata": {},
   "source": [
    "# Sets"
   ]
  },
  {
   "cell_type": "code",
   "execution_count": 70,
   "id": "0bb876da",
   "metadata": {},
   "outputs": [
    {
     "name": "stdout",
     "output_type": "stream",
     "text": [
      "set()\n",
      "{1, 5}\n"
     ]
    }
   ],
   "source": [
    "s = set()\n",
    "print(s)\n",
    "\n",
    "s.add(1)\n",
    "s.add(5)\n",
    "print(s)"
   ]
  },
  {
   "cell_type": "code",
   "execution_count": 71,
   "id": "3f19dba8",
   "metadata": {},
   "outputs": [
    {
     "name": "stdout",
     "output_type": "stream",
     "text": [
      "{1, 5}\n"
     ]
    }
   ],
   "source": [
    "s.add(1)  # can only add unique values\n",
    "print(s)"
   ]
  },
  {
   "cell_type": "code",
   "execution_count": 72,
   "id": "522cd58e",
   "metadata": {},
   "outputs": [
    {
     "data": {
      "text/plain": [
       "{1, 2, 3, 4, 5, 6}"
      ]
     },
     "execution_count": 72,
     "metadata": {},
     "output_type": "execute_result"
    }
   ],
   "source": [
    "l = [1,1,2,2,3,4,5,6,1,1]  # list with repeats\n",
    "set(l)"
   ]
  },
  {
   "cell_type": "code",
   "execution_count": 76,
   "id": "12b1297f",
   "metadata": {},
   "outputs": [
    {
     "name": "stdout",
     "output_type": "stream",
     "text": [
      "35\n"
     ]
    }
   ],
   "source": [
    "# Can you access the last element of list l and find the last element of that list\n",
    "l = [5, 10, 15, 20, 25, 30, 35]\n",
    "print(l[-1])"
   ]
  },
  {
   "cell_type": "markdown",
   "id": "e052fcd2",
   "metadata": {},
   "source": [
    "# Python programming constructs"
   ]
  },
  {
   "cell_type": "code",
   "execution_count": 75,
   "id": "785fb0be",
   "metadata": {},
   "outputs": [
    {
     "name": "stdout",
     "output_type": "stream",
     "text": [
      "a is greater than b\n"
     ]
    }
   ],
   "source": [
    "# if elif else\n",
    "\n",
    "a = 5\n",
    "b = 4\n",
    "\n",
    "if a > b:\n",
    "    # we are inside the if block\n",
    "    print(\"a is greater than b\")\n",
    "elif b > a:\n",
    "    # we are inside the elif block\n",
    "    print(\"b is greater than a\")\n",
    "else:\n",
    "    # we are inside the else block\n",
    "    print(\"a and b are equal\")"
   ]
  },
  {
   "cell_type": "code",
   "execution_count": 77,
   "id": "30790d5d",
   "metadata": {},
   "outputs": [
    {
     "name": "stdout",
     "output_type": "stream",
     "text": [
      "2 4 6 8 10 "
     ]
    }
   ],
   "source": [
    "# for loops\n",
    "\n",
    "list_1 = [2,4,5,6,8,7,9,10]\n",
    "\n",
    "for number in list_1:          \n",
    "    if number % 2 == 0:        \n",
    "        print(number,end=' ')"
   ]
  },
  {
   "cell_type": "code",
   "execution_count": 82,
   "id": "10bd61c2",
   "metadata": {},
   "outputs": [
    {
     "name": "stdout",
     "output_type": "stream",
     "text": [
      "out of loop without using break statement\n"
     ]
    },
    {
     "data": {
      "text/plain": [
       "[(2, 169), (3, 121), (5, 121), (6, 225)]"
      ]
     },
     "execution_count": 82,
     "metadata": {},
     "output_type": "execute_result"
    }
   ],
   "source": [
    "# using ENUMERATE\n",
    "\n",
    "lst1 = [4, 7, 13, 11, 3, 11, 15, ]\n",
    "lst2 = []\n",
    "\n",
    "for index, e in enumerate(lst1):\n",
    "    if e == 10:\n",
    "        break\n",
    "    if e < 10:\n",
    "        continue\n",
    "    lst2.append((index, e*e))\n",
    "else:\n",
    "    print(\"out of loop without using break statement\")\n",
    "\n",
    "lst2"
   ]
  },
  {
   "cell_type": "code",
   "execution_count": 81,
   "id": "8eecd15b",
   "metadata": {},
   "outputs": [
    {
     "data": {
      "text/plain": [
       "[(0, 225), (2, 169)]"
      ]
     },
     "execution_count": 81,
     "metadata": {},
     "output_type": "execute_result"
    }
   ],
   "source": [
    "lst1 = [15, 7, 13, 4, 10, 14]\n",
    "lst2 = []\n",
    "\n",
    "for index, e in enumerate(lst1):\n",
    "    if e == 10:\n",
    "        break\n",
    "    if e < 10:\n",
    "        continue\n",
    "    lst2.append((index, e*e))\n",
    "else:\n",
    "    print(\"out of loop without using break statement\")\n",
    "    \n",
    "lst2"
   ]
  },
  {
   "cell_type": "code",
   "execution_count": 83,
   "id": "1ea747ab",
   "metadata": {},
   "outputs": [
    {
     "name": "stdout",
     "output_type": "stream",
     "text": [
      "x is currently:  0  x is still less than 10, adding 1 to x\n",
      "x is currently:  1  x is still less than 10, adding 1 to x\n",
      "x is currently:  2  x is still less than 10, adding 1 to x\n",
      "x is currently:  3  x is still less than 10, adding 1 to x\n",
      "x is currently:  4  x is still less than 10, adding 1 to x\n",
      "x is currently:  5  x is still less than 10, adding 1 to x\n",
      "x is currently:  6  x is still less than 10, adding 1 to x\n",
      "x is currently:  7  x is still less than 10, adding 1 to x\n",
      "x is currently:  8  x is still less than 10, adding 1 to x\n",
      "x is currently:  9  x is still less than 10, adding 1 to x\n"
     ]
    }
   ],
   "source": [
    "# while loop\n",
    "\n",
    "x = 0\n",
    "\n",
    "while x < 10:\n",
    "    print ('x is currently: ',x,end=' ') \n",
    "    print (' x is still less than 10, adding 1 to x')\n",
    "    x+=1"
   ]
  },
  {
   "cell_type": "markdown",
   "id": "046a7203",
   "metadata": {},
   "source": [
    "# List Comprehensions"
   ]
  },
  {
   "cell_type": "code",
   "execution_count": 86,
   "id": "b30f37ad",
   "metadata": {},
   "outputs": [
    {
     "name": "stdout",
     "output_type": "stream",
     "text": [
      "['Hello Bengaluru', 'Hello Mumbai', 'Hello Chennai']\n"
     ]
    }
   ],
   "source": [
    "places = ['Bengaluru','Mumbai','Chennai']\n",
    "hello = ['Hello ' + x for x in places ]\n",
    "print(hello)"
   ]
  },
  {
   "cell_type": "code",
   "execution_count": 88,
   "id": "c95e29be",
   "metadata": {},
   "outputs": [
    {
     "name": "stdout",
     "output_type": "stream",
     "text": [
      "[50, 52, 10, 32]\n",
      "[55, 23, 99]\n",
      "[(55, 3025), (23, 529), (99, 9801)]\n"
     ]
    }
   ],
   "source": [
    "numbers = [50, 55, 23, 52, 99, 10, 32]\n",
    "even = [x for x in numbers if x % 2 == 0]\n",
    "print(even)\n",
    "\n",
    "odd = [x for x in numbers if x % 2 != 0]\n",
    "print(odd)\n",
    "\n",
    "odd_squares = [(num, num * num) for num in numbers if num % 2 == 1]\n",
    "print(odd_squares)"
   ]
  },
  {
   "cell_type": "markdown",
   "id": "fa837905",
   "metadata": {},
   "source": [
    "# Exception Handling"
   ]
  },
  {
   "cell_type": "code",
   "execution_count": 95,
   "id": "64f53a20",
   "metadata": {},
   "outputs": [
    {
     "name": "stdout",
     "output_type": "stream",
     "text": [
      "divided by zero\n",
      "executed when exception occurs\n",
      "finally block, always executed\n"
     ]
    }
   ],
   "source": [
    "try:\n",
    "    x = 1 / 0\n",
    "except ZeroDivisionError:\n",
    "    print('divided by zero')\n",
    "    print('executed when exception occurs')\n",
    "else:\n",
    "    print('executed only when exception does not occur')\n",
    "finally:\n",
    "    print('finally block, always executed')"
   ]
  },
  {
   "cell_type": "markdown",
   "id": "0e4a7787",
   "metadata": {},
   "source": [
    "# Importing modules and packages"
   ]
  },
  {
   "cell_type": "code",
   "execution_count": 96,
   "id": "13e5d91e",
   "metadata": {},
   "outputs": [
    {
     "data": {
      "text/plain": [
       "2.0969100130080562"
      ]
     },
     "execution_count": 96,
     "metadata": {},
     "output_type": "execute_result"
    }
   ],
   "source": [
    "# import the math module\n",
    "import math\n",
    "\n",
    "#using the log10 function in the math module\n",
    "math.log10(125)"
   ]
  },
  {
   "cell_type": "code",
   "execution_count": 91,
   "id": "58c61b9e",
   "metadata": {},
   "outputs": [
    {
     "name": "stdout",
     "output_type": "stream",
     "text": [
      "529.0\n",
      "12167.0\n"
     ]
    }
   ],
   "source": [
    "# Can you compute the square of a number assigned to a variable a using the math module?\n",
    "\n",
    "import math\n",
    "num = 23\n",
    "square_of_num = math.pow(num, 2)\n",
    "print(square_of_num)\n",
    "\n",
    "cube_of_num = math.pow(num, 3)\n",
    "print(cube_of_num)"
   ]
  },
  {
   "cell_type": "code",
   "execution_count": 94,
   "id": "72cb7ff8",
   "metadata": {},
   "outputs": [
    {
     "name": "stdout",
     "output_type": "stream",
     "text": [
      "[16, 25, 36, 49, 100, 121, 144, 169, 289, 324]\n",
      "1 4 9 16 25 36 49 64 81 100 "
     ]
    }
   ],
   "source": [
    "# Can you create a list of 10 numbers iterate through the list and print the square of each number ?\n",
    "\n",
    "lst = [4, 5, 6, 7, 10, 11, 12, 13, 17, 18]\n",
    "print(list(l*l for l in lst))\n",
    "\n",
    "# another approach\n",
    "l = [i for i in range(1,11)]\n",
    "for i in l:\n",
    "    print(i*i,end=' ')"
   ]
  },
  {
   "cell_type": "code",
   "execution_count": null,
   "id": "6234585e",
   "metadata": {},
   "outputs": [],
   "source": []
  }
 ],
 "metadata": {
  "kernelspec": {
   "display_name": "Python 3 (ipykernel)",
   "language": "python",
   "name": "python3"
  },
  "language_info": {
   "codemirror_mode": {
    "name": "ipython",
    "version": 3
   },
   "file_extension": ".py",
   "mimetype": "text/x-python",
   "name": "python",
   "nbconvert_exporter": "python",
   "pygments_lexer": "ipython3",
   "version": "3.9.12"
  }
 },
 "nbformat": 4,
 "nbformat_minor": 5
}
