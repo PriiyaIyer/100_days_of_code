{
 "cells": [
  {
   "cell_type": "code",
   "execution_count": 1,
   "id": "534d4dd8",
   "metadata": {},
   "outputs": [],
   "source": [
    "%matplotlib inline\n",
    "from sklearn.datasets import load_digits\n",
    "digits = load_digits()"
   ]
  },
  {
   "cell_type": "code",
   "execution_count": 3,
   "id": "3b2f247f",
   "metadata": {},
   "outputs": [
    {
     "data": {
      "text/plain": [
       "(1797, 64)"
      ]
     },
     "execution_count": 3,
     "metadata": {},
     "output_type": "execute_result"
    }
   ],
   "source": [
    "digits.data.shape\n",
    "\n",
    "#shows that there are 1797 images (8 by 8 images of dimensionality 64)"
   ]
  },
  {
   "cell_type": "code",
   "execution_count": 4,
   "id": "3f5de3b8",
   "metadata": {},
   "outputs": [
    {
     "data": {
      "text/plain": [
       "(1797,)"
      ]
     },
     "execution_count": 4,
     "metadata": {},
     "output_type": "execute_result"
    }
   ],
   "source": [
    "digits.target.shape\n",
    "\n",
    "#shows that there are 1797 labels (integers from 0-9)"
   ]
  },
  {
   "cell_type": "code",
   "execution_count": 7,
   "id": "0082b5e5",
   "metadata": {},
   "outputs": [
    {
     "data": {
      "text/plain": [
       "array([ 0.,  0.,  7.,  8., 13., 16., 15.,  1.,  0.,  0.,  7.,  7.,  4.,\n",
       "       11., 12.,  0.,  0.,  0.,  0.,  0.,  8., 13.,  1.,  0.,  0.,  4.,\n",
       "        8.,  8., 15., 15.,  6.,  0.,  0.,  2., 11., 15., 15.,  4.,  0.,\n",
       "        0.,  0.,  0.,  0., 16.,  5.,  0.,  0.,  0.,  0.,  0.,  9., 15.,\n",
       "        1.,  0.,  0.,  0.,  0.,  0., 13.,  5.,  0.,  0.,  0.,  0.])"
      ]
     },
     "execution_count": 7,
     "metadata": {},
     "output_type": "execute_result"
    }
   ],
   "source": [
    "digits.data[7]"
   ]
  },
  {
   "cell_type": "code",
   "execution_count": 8,
   "id": "0ed44b0b",
   "metadata": {},
   "outputs": [
    {
     "data": {
      "text/plain": [
       "7"
      ]
     },
     "execution_count": 8,
     "metadata": {},
     "output_type": "execute_result"
    }
   ],
   "source": [
    "digits.target[7]"
   ]
  },
  {
   "cell_type": "code",
   "execution_count": 11,
   "id": "be3162fb",
   "metadata": {},
   "outputs": [
    {
     "data": {
      "image/png": "[encoded data removed]",
      "text/plain": [
       "<Figure size 1440x288 with 10 Axes>"
      ]
     },
     "metadata": {
      "needs_background": "light"
     },
     "output_type": "display_data"
    }
   ],
   "source": [
    "import numpy as np\n",
    "import matplotlib.pyplot as plt\n",
    "\n",
    "plt.figure(figsize = (20,4))\n",
    "for index, (image, label) in enumerate(zip(digits.data[0:10], digits.target[0:10])):\n",
    "    plt.subplot(1, 10, index+1)\n",
    "    plt.imshow(np.reshape(image, (8,8)), cmap = plt.cm.gray)\n",
    "    plt.title('Target %i\\n' % label, fontsize = 20)"
   ]
  },
  {
   "cell_type": "code",
   "execution_count": 13,
   "id": "54ac0b63",
   "metadata": {},
   "outputs": [],
   "source": [
    "from sklearn.model_selection import train_test_split\n",
    "x_train, x_test, y_train, y_test = train_test_split(digits.data, digits.target, test_size = 0.25, random_state = 0)"
   ]
  },
  {
   "cell_type": "code",
   "execution_count": 16,
   "id": "86e025af",
   "metadata": {},
   "outputs": [],
   "source": [
    "from sklearn.linear_model import LogisticRegression"
   ]
  },
  {
   "cell_type": "code",
   "execution_count": 18,
   "id": "31cfde81",
   "metadata": {},
   "outputs": [],
   "source": [
    "clf = LogisticRegression( C=10, solver='saga', max_iter = 300, random_state =12, tol =0.001, multi_class ='auto')"
   ]
  },
  {
   "cell_type": "code",
   "execution_count": 19,
   "id": "02af6262",
   "metadata": {},
   "outputs": [
    {
     "data": {
      "text/plain": [
       "LogisticRegression(C=10, max_iter=300, random_state=12, solver='saga',\n",
       "                   tol=0.001)"
      ]
     },
     "execution_count": 19,
     "metadata": {},
     "output_type": "execute_result"
    }
   ],
   "source": [
    "clf.fit(x_train, y_train)"
   ]
  },
  {
   "cell_type": "code",
   "execution_count": 20,
   "id": "b05ce3d8",
   "metadata": {},
   "outputs": [
    {
     "data": {
      "text/plain": [
       "array([266])"
      ]
     },
     "execution_count": 20,
     "metadata": {},
     "output_type": "execute_result"
    }
   ],
   "source": [
    "clf.n_iter_"
   ]
  },
  {
   "cell_type": "code",
   "execution_count": 22,
   "id": "6295c7a9",
   "metadata": {},
   "outputs": [
    {
     "data": {
      "text/plain": [
       "array([2])"
      ]
     },
     "execution_count": 22,
     "metadata": {},
     "output_type": "execute_result"
    }
   ],
   "source": [
    "#Predicting for one observation (image)\n",
    "clf.predict(x_test[0].reshape(1,-1))"
   ]
  },
  {
   "cell_type": "code",
   "execution_count": 24,
   "id": "df1beb44",
   "metadata": {},
   "outputs": [
    {
     "data": {
      "text/plain": [
       "array([2, 8, 2, 6, 6, 7, 1, 9, 8, 5])"
      ]
     },
     "execution_count": 24,
     "metadata": {},
     "output_type": "execute_result"
    }
   ],
   "source": [
    "#Predict for multiple observations (images) at once\n",
    "clf.predict(x_test[0:10])"
   ]
  },
  {
   "cell_type": "code",
   "execution_count": 27,
   "id": "5e6e9fe4",
   "metadata": {},
   "outputs": [
    {
     "data": {
      "text/plain": [
       "array([2, 8, 2, 6, 6, 7, 1, 9, 8, 5, 2, 8, 6, 6, 6, 6, 1, 0, 5, 8, 8, 7,\n",
       "       8, 4, 7, 5, 4, 9, 2, 9, 4, 7, 6, 8, 9, 4, 3, 1, 0, 1, 8, 6, 7, 7,\n",
       "       1, 0, 7, 6, 2, 1, 9, 6, 7, 9, 0, 0, 9, 1, 6, 3, 0, 2, 3, 4, 1, 9,\n",
       "       2, 6, 9, 1, 8, 3, 5, 1, 2, 8, 2, 2, 9, 7, 2, 3, 6, 0, 5, 3, 7, 5,\n",
       "       1, 2, 9, 9, 3, 1, 4, 7, 4, 8, 5, 8, 5, 5, 2, 5, 9, 0, 7, 1, 4, 7,\n",
       "       3, 4, 8, 9, 7, 9, 8, 2, 1, 5, 2, 5, 8, 4, 1, 7, 0, 6, 1, 5, 5, 9,\n",
       "       9, 5, 9, 9, 5, 7, 5, 6, 2, 8, 6, 9, 6, 1, 5, 1, 5, 9, 9, 1, 5, 3,\n",
       "       6, 1, 8, 9, 8, 7, 6, 7, 6, 5, 6, 0, 8, 8, 9, 8, 6, 1, 0, 4, 1, 6,\n",
       "       3, 8, 6, 7, 4, 9, 6, 3, 0, 3, 3, 3, 0, 7, 7, 5, 7, 8, 0, 7, 1, 9,\n",
       "       6, 4, 5, 0, 1, 4, 6, 4, 3, 3, 0, 9, 5, 9, 2, 1, 4, 2, 1, 6, 8, 9,\n",
       "       2, 4, 9, 3, 7, 6, 2, 3, 3, 1, 6, 9, 3, 6, 3, 2, 2, 0, 7, 6, 1, 1,\n",
       "       9, 7, 2, 7, 8, 5, 5, 7, 5, 3, 3, 7, 2, 7, 5, 5, 7, 0, 9, 1, 6, 5,\n",
       "       9, 7, 4, 3, 8, 0, 3, 6, 4, 6, 3, 2, 6, 8, 8, 8, 4, 6, 7, 5, 2, 4,\n",
       "       5, 3, 2, 4, 6, 9, 4, 5, 4, 3, 4, 6, 2, 9, 0, 1, 7, 2, 0, 9, 6, 0,\n",
       "       4, 2, 0, 7, 9, 8, 5, 7, 8, 2, 8, 4, 3, 7, 2, 6, 9, 9, 5, 1, 0, 8,\n",
       "       2, 8, 9, 5, 6, 2, 2, 7, 2, 1, 5, 1, 6, 4, 5, 0, 9, 4, 1, 1, 7, 0,\n",
       "       8, 9, 0, 5, 4, 3, 8, 8, 6, 5, 3, 4, 4, 4, 8, 8, 7, 0, 9, 6, 3, 5,\n",
       "       2, 3, 0, 8, 8, 3, 1, 3, 3, 0, 0, 4, 6, 0, 7, 7, 6, 2, 0, 4, 4, 2,\n",
       "       3, 7, 1, 9, 8, 6, 8, 5, 6, 2, 2, 3, 1, 7, 7, 8, 0, 3, 3, 2, 1, 5,\n",
       "       5, 9, 1, 3, 7, 0, 0, 3, 0, 4, 5, 8, 9, 3, 4, 3, 1, 8, 9, 8, 3, 6,\n",
       "       3, 1, 6, 2, 1, 7, 5, 5, 1, 9])"
      ]
     },
     "execution_count": 27,
     "metadata": {},
     "output_type": "execute_result"
    }
   ],
   "source": [
    "#Predict for the entire test data\n",
    "predictions = clf.predict(x_test)\n",
    "predictions"
   ]
  },
  {
   "cell_type": "code",
   "execution_count": 28,
   "id": "3b031467",
   "metadata": {},
   "outputs": [
    {
     "name": "stdout",
     "output_type": "stream",
     "text": [
      "0.96\n"
     ]
    }
   ],
   "source": [
    "#Performance metrices\n",
    "from sklearn.metrics import accuracy_score\n",
    "print(accuracy_score(y_test, predictions))"
   ]
  },
  {
   "cell_type": "code",
   "execution_count": 29,
   "id": "81c053eb",
   "metadata": {},
   "outputs": [
    {
     "name": "stdout",
     "output_type": "stream",
     "text": [
      "1.0\n"
     ]
    }
   ],
   "source": [
    "# Using score method to calculate accuracy of the model\n",
    "score = clf.score(x_train, y_train)\n",
    "print(score)"
   ]
  },
  {
   "cell_type": "code",
   "execution_count": 30,
   "id": "92980583",
   "metadata": {},
   "outputs": [],
   "source": [
    "import numpy as np\n",
    "from sklearn.metrics import f1_score\n",
    "import seaborn as sns\n",
    "from sklearn import metrics"
   ]
  },
  {
   "cell_type": "code",
   "execution_count": 31,
   "id": "17cfa4c2",
   "metadata": {},
   "outputs": [
    {
     "name": "stdout",
     "output_type": "stream",
     "text": [
      "0.9607023735651516\n"
     ]
    }
   ],
   "source": [
    "print(f1_score(y_test, predictions, average='macro'))"
   ]
  },
  {
   "cell_type": "code",
   "execution_count": 33,
   "id": "6ca4d196",
   "metadata": {},
   "outputs": [
    {
     "name": "stdout",
     "output_type": "stream",
     "text": [
      "              precision    recall  f1-score   support\n",
      "\n",
      "           0       1.00      1.00      1.00        37\n",
      "           1       0.91      0.95      0.93        43\n",
      "           2       0.98      0.95      0.97        44\n",
      "           3       0.93      0.96      0.95        45\n",
      "           4       0.97      0.97      0.97        38\n",
      "           5       0.98      0.96      0.97        48\n",
      "           6       1.00      0.98      0.99        52\n",
      "           7       0.98      0.96      0.97        48\n",
      "           8       0.94      0.92      0.93        48\n",
      "           9       0.92      0.96      0.94        47\n",
      "\n",
      "    accuracy                           0.96       450\n",
      "   macro avg       0.96      0.96      0.96       450\n",
      "weighted avg       0.96      0.96      0.96       450\n",
      "\n"
     ]
    }
   ],
   "source": [
    "from sklearn.metrics import classification_report\n",
    "print(classification_report(y_test, predictions))"
   ]
  },
  {
   "cell_type": "code",
   "execution_count": 35,
   "id": "123f3489",
   "metadata": {},
   "outputs": [
    {
     "data": {
      "text/plain": [
       "array([[37,  0,  0,  0,  0,  0,  0,  0,  0,  0],\n",
       "       [ 0, 41,  0,  0,  0,  0,  0,  0,  1,  1],\n",
       "       [ 0,  0, 42,  2,  0,  0,  0,  0,  0,  0],\n",
       "       [ 0,  0,  0, 43,  0,  0,  0,  0,  1,  1],\n",
       "       [ 0,  0,  0,  0, 37,  0,  0,  1,  0,  0],\n",
       "       [ 0,  0,  0,  0,  0, 46,  0,  0,  0,  2],\n",
       "       [ 0,  1,  0,  0,  0,  0, 51,  0,  0,  0],\n",
       "       [ 0,  0,  0,  1,  1,  0,  0, 46,  0,  0],\n",
       "       [ 0,  3,  1,  0,  0,  0,  0,  0, 44,  0],\n",
       "       [ 0,  0,  0,  0,  0,  1,  0,  0,  1, 45]], dtype=int64)"
      ]
     },
     "execution_count": 35,
     "metadata": {},
     "output_type": "execute_result"
    }
   ],
   "source": [
    "cm = metrics.confusion_matrix(y_test, predictions)\n",
    "cm"
   ]
  },
  {
   "cell_type": "code",
   "execution_count": 40,
   "id": "e6fb977b",
   "metadata": {},
   "outputs": [
    {
     "data": {
      "image/png": "[encoded data removed]",
      "text/plain": [
       "<Figure size 648x648 with 2 Axes>"
      ]
     },
     "metadata": {
      "needs_background": "light"
     },
     "output_type": "display_data"
    }
   ],
   "source": [
    "plt.figure(figsize =(9,9))\n",
    "sns.heatmap(cm, annot =True, fmt =\".3f\", linewidth = 0.5, square =True, cmap ='cubehelix');\n",
    "plt.ylabel(\"Actual Label\");\n",
    "plt.xlabel(\"Predicted Label\");\n",
    "all_sample_title = 'Accuracy Score: {0}'.format(score)\n",
    "plt.title(all_sample_title, size = 15);\n",
    "plt.savefig('Digits_ConfusionMatrix.png')\n",
    "plt.show()"
   ]
  },
  {
   "cell_type": "code",
   "execution_count": 37,
   "id": "f5fb7161",
   "metadata": {},
   "outputs": [
    {
     "data": {
      "text/plain": [
       "array([[ 0.00000000e+00, -3.34068832e-03, -3.65635621e-02,\n",
       "         8.74693209e-02,  2.49045453e-02, -1.15199252e-01,\n",
       "        -1.01397345e-01, -1.14674370e-02, -1.05208918e-04,\n",
       "        -1.87877551e-02, -1.52849306e-02,  1.27092343e-01,\n",
       "         6.28542935e-02,  7.62535183e-02, -4.90601348e-02,\n",
       "        -1.01507158e-02, -1.59717380e-06,  5.26914171e-02,\n",
       "         1.21136515e-01, -2.21093656e-02, -2.68264505e-01,\n",
       "         1.67200943e-01,  6.94325585e-02, -2.29894451e-03,\n",
       "        -1.58112493e-06,  8.52938402e-02,  1.09151510e-01,\n",
       "        -1.40693235e-01, -4.04929296e-01,  1.85105815e-02,\n",
       "         9.30144500e-02, -3.21452251e-04,  0.00000000e+00,\n",
       "         1.01913916e-01,  1.01687627e-01, -1.37081097e-01,\n",
       "        -3.07594052e-01,  2.35188519e-02,  6.19468872e-02,\n",
       "         0.00000000e+00, -7.33708885e-04, -3.08979016e-02,\n",
       "         1.89134417e-01, -8.44814275e-02, -1.42923256e-01,\n",
       "         8.80372581e-02,  3.32189536e-02, -2.98873242e-04,\n",
       "        -2.63358139e-03, -7.47014331e-02,  5.83000792e-02,\n",
       "        -1.33878010e-02,  1.33802101e-01,  6.30211953e-02,\n",
       "        -3.35772732e-02, -6.19529986e-03, -1.35938806e-05,\n",
       "        -8.03564394e-03, -5.77602202e-02,  1.37704007e-01,\n",
       "        -4.19702448e-02, -6.09454135e-02, -5.79193450e-02,\n",
       "        -2.63655949e-02],\n",
       "       [ 0.00000000e+00, -1.44446223e-02, -6.50167293e-02,\n",
       "        -1.58391254e-02, -5.86628270e-01,  3.19028961e-01,\n",
       "         8.76630508e-02, -8.32655921e-03, -4.12041769e-04,\n",
       "        -1.94110702e-01, -3.23128823e-01, -2.13654841e-01,\n",
       "         1.59519084e-01, -1.39978864e-01, -2.34723641e-01,\n",
       "        -1.19013631e-02, -2.16666505e-04,  1.27856359e-01,\n",
       "        -2.72536873e-03,  4.33264519e-01,  2.74530935e-01,\n",
       "        -1.01689302e-01,  7.56505445e-03, -5.10427453e-03,\n",
       "        -8.03875470e-03, -8.50824677e-02,  8.00207181e-03,\n",
       "         3.60313077e-02,  1.88880000e-01,  1.29490248e-01,\n",
       "        -1.12335038e-01, -2.77919761e-05,  0.00000000e+00,\n",
       "         1.11990410e-01,  4.36833239e-02, -1.03941978e-01,\n",
       "         5.77530834e-02,  4.00323691e-02, -1.24652571e-01,\n",
       "         0.00000000e+00, -1.44078473e-04, -1.96685849e-01,\n",
       "         1.54076816e-02,  2.49711359e-01,  5.87413206e-02,\n",
       "        -1.73118310e-01, -1.93159640e-01, -1.82066762e-02,\n",
       "        -1.94568380e-03, -8.53290922e-02,  4.77784989e-03,\n",
       "         1.01674528e-01,  1.81439909e-01,  2.35848237e-02,\n",
       "        -8.18541758e-02,  5.19480216e-02, -5.81247388e-04,\n",
       "        -4.47087309e-03, -1.57149710e-01,  6.86473972e-02,\n",
       "         7.81209967e-02,  9.88732790e-02,  1.19873028e-01,\n",
       "         1.89959964e-01],\n",
       "       [ 0.00000000e+00,  2.68057137e-02,  6.56838212e-02,\n",
       "         3.91706601e-02, -4.24374990e-02, -1.85014232e-02,\n",
       "        -3.68747752e-03, -1.31576738e-03, -5.75223068e-03,\n",
       "         1.08413233e-01,  7.61938371e-02, -1.00308287e-01,\n",
       "         2.11244835e-01, -4.01080405e-02,  6.59108170e-02,\n",
       "        -1.43940094e-03, -2.79572412e-03, -2.83768892e-02,\n",
       "        -8.33533662e-02, -2.10488733e-01,  1.59940554e-01,\n",
       "         3.29199023e-02,  1.04029552e-01, -3.00386493e-04,\n",
       "        -4.57059971e-06, -1.08832288e-01, -3.33761354e-01,\n",
       "        -3.38223666e-01, -7.69933881e-02, -1.84246597e-02,\n",
       "         8.32509059e-03, -8.19542785e-07,  0.00000000e+00,\n",
       "        -8.84669476e-02, -2.22203653e-01, -8.74484937e-02,\n",
       "        -4.81329472e-03, -1.78180570e-01, -1.60172846e-01,\n",
       "         0.00000000e+00, -2.04965580e-05,  7.26101282e-02,\n",
       "         7.81629102e-02,  3.19080226e-01, -1.46440653e-01,\n",
       "        -3.37814351e-01, -1.44690659e-01,  6.28694216e-03,\n",
       "         3.41864177e-03,  1.33039587e-01,  8.16423769e-02,\n",
       "         2.78783619e-01,  2.35897249e-01,  2.26017255e-01,\n",
       "         9.08548705e-02,  6.94196550e-02,  1.14812724e-03,\n",
       "         4.55456259e-02,  8.99021446e-02,  4.89175554e-03,\n",
       "         4.03239083e-02,  2.37970812e-01,  2.80449715e-01,\n",
       "         1.19814006e-01],\n",
       "       [ 0.00000000e+00,  7.04099315e-02, -5.70983924e-02,\n",
       "         9.01518215e-02,  3.16996972e-01,  1.33915922e-01,\n",
       "        -5.85852260e-02, -5.09333776e-03, -5.12758696e-03,\n",
       "         1.23489763e-01,  6.42155313e-02,  3.81075213e-02,\n",
       "         8.70571101e-02,  1.54837399e-01,  8.15277631e-02,\n",
       "        -1.05708051e-02, -6.33815739e-04, -6.17403285e-03,\n",
       "        -2.85144385e-01, -3.08293358e-01,  8.16131808e-02,\n",
       "        -2.28927440e-01,  6.51497297e-02, -2.10713970e-03,\n",
       "        -3.04322952e-07, -8.53404468e-02, -3.85555146e-01,\n",
       "        -2.80279940e-02,  1.76237537e-01, -2.95965657e-01,\n",
       "        -1.88663953e-01, -3.89922224e-07,  0.00000000e+00,\n",
       "        -3.67845091e-02, -1.07573373e-01,  4.56428968e-02,\n",
       "         1.08955718e-01, -7.70469341e-02, -9.23410849e-03,\n",
       "         0.00000000e+00, -6.07873946e-06, -3.10689384e-02,\n",
       "        -2.73059335e-01, -3.96947136e-01,  3.56581866e-02,\n",
       "         3.09151342e-01,  2.25477655e-01, -5.23194370e-03,\n",
       "        -1.96022816e-05, -8.07881323e-02, -4.05189564e-02,\n",
       "        -1.25080389e-01,  3.11766820e-02,  1.07972087e-01,\n",
       "         2.99233725e-01, -6.54139247e-02, -4.58001507e-06,\n",
       "         6.34872491e-02,  2.29182458e-01,  8.96708941e-02,\n",
       "         1.72641337e-02, -3.82241223e-03, -3.60986995e-02,\n",
       "        -1.22436894e-01],\n",
       "       [ 0.00000000e+00, -1.64342258e-02, -6.66452187e-02,\n",
       "        -2.94333532e-01, -1.51401992e-01, -2.67607656e-01,\n",
       "        -1.73066889e-01,  1.52483708e-02, -7.52272240e-05,\n",
       "         4.55992340e-02, -1.76074846e-01, -1.93415419e-01,\n",
       "        -3.18597457e-01, -1.51778491e-01, -1.04459714e-01,\n",
       "         3.88465011e-02, -5.79072439e-06,  1.12095694e-01,\n",
       "         5.72850074e-02,  9.83644364e-02,  3.17667917e-02,\n",
       "         5.08733264e-02, -3.96609400e-02,  3.51888114e-02,\n",
       "         8.46558107e-03,  3.16207869e-02,  3.60829930e-01,\n",
       "         9.58272485e-02,  1.01239292e-01,  4.18908146e-02,\n",
       "         3.43132572e-01,  2.01077626e-03,  0.00000000e+00,\n",
       "         1.54261314e-01,  1.18125747e-01, -9.89405633e-02,\n",
       "         2.02202912e-01,  1.74054769e-01,  3.67157157e-01,\n",
       "         0.00000000e+00,  1.71369467e-03,  3.65824228e-01,\n",
       "        -5.12891831e-02,  4.84896262e-01,  3.34164336e-01,\n",
       "         1.10692322e-01,  9.01159592e-02, -1.48139395e-03,\n",
       "         4.46779079e-03,  1.79068180e-01, -1.18827999e-01,\n",
       "         9.41879326e-02,  5.51690362e-02, -2.22033888e-01,\n",
       "        -1.53406203e-01, -4.00784765e-03, -3.52984764e-05,\n",
       "        -2.02931080e-02,  2.20549152e-02, -2.05640431e-01,\n",
       "        -7.49371070e-02, -1.50883557e-01, -6.97906289e-02,\n",
       "        -6.36966310e-03],\n",
       "       [ 0.00000000e+00,  4.54570903e-02,  3.52280766e-01,\n",
       "        -1.07785715e-01,  5.82006495e-02,  2.32178642e-01,\n",
       "         2.76938543e-01, -4.87668223e-02,  3.24780080e-05,\n",
       "        -3.89652167e-03,  2.32014324e-01,  1.26256855e-01,\n",
       "         2.56506644e-02, -1.10460553e-01, -3.93344970e-02,\n",
       "        -1.95091807e-02, -9.92168145e-05, -1.77091151e-02,\n",
       "         1.20752478e-01, -3.66895730e-02, -3.26930774e-01,\n",
       "        -4.16643415e-01, -3.10742831e-01, -5.70031746e-03,\n",
       "        -2.75799331e-04,  1.24169597e-01,  1.99393063e-01,\n",
       "        -1.35721051e-01,  1.97650178e-01, -3.84379108e-02,\n",
       "        -1.84713788e-01, -9.48790638e-06,  0.00000000e+00,\n",
       "        -6.43297554e-02,  1.00622097e-01, -1.52485148e-01,\n",
       "        -3.50221168e-02, -2.40023067e-02,  3.43040771e-02,\n",
       "         0.00000000e+00, -7.97274388e-05, -1.28393020e-01,\n",
       "        -1.66882529e-01, -2.09956342e-01, -1.11988286e-01,\n",
       "         8.82474255e-02,  7.50609718e-03, -8.41578111e-04,\n",
       "        -3.32746877e-05,  7.90507440e-03, -6.26101701e-02,\n",
       "        -9.91024564e-02, -2.68691262e-02, -2.00183739e-02,\n",
       "        -5.98577560e-02, -9.80063429e-03, -3.09189511e-06,\n",
       "         3.75531295e-02,  3.10200083e-01,  1.82602817e-01,\n",
       "        -1.63586950e-02,  2.22256671e-02, -4.23920188e-02,\n",
       "        -3.63149037e-02],\n",
       "       [ 0.00000000e+00, -1.17872514e-02, -1.62235992e-01,\n",
       "         5.29243698e-03, -1.01520591e-01, -1.15321246e-01,\n",
       "        -2.69356433e-02, -1.21457067e-03, -3.01892355e-04,\n",
       "        -1.22174686e-01, -1.71190792e-01,  5.07226345e-02,\n",
       "        -2.72499614e-01, -1.06142840e-02,  3.06665845e-02,\n",
       "        -2.44814377e-03, -1.15333442e-04, -7.92707129e-02,\n",
       "         1.43770289e-01,  3.52385171e-02, -2.22866248e-01,\n",
       "        -2.77809199e-01, -5.16065455e-02, -2.01653894e-03,\n",
       "        -4.95026318e-05,  8.66432040e-02,  1.94014915e-02,\n",
       "         1.34302066e-01, -1.05800882e-01, -1.00175629e-01,\n",
       "        -1.51969988e-01, -2.00335318e-04,  0.00000000e+00,\n",
       "         9.65041037e-02,  1.76433956e-01,  1.91779379e-01,\n",
       "        -6.09084926e-02, -1.61339854e-02,  5.25838469e-02,\n",
       "         0.00000000e+00, -6.56486296e-04, -9.17363334e-02,\n",
       "         3.77411675e-01,  5.07650248e-02,  1.20426658e-01,\n",
       "         1.08204089e-01,  8.26994780e-02,  2.23600512e-02,\n",
       "        -1.66292757e-03, -1.12165485e-01,  1.18927107e-01,\n",
       "         1.05236639e-01, -7.86221807e-02,  1.82898775e-01,\n",
       "         6.10387530e-02, -4.01564926e-02, -3.31861230e-06,\n",
       "        -1.41852156e-02, -1.74952506e-01, -9.09972959e-02,\n",
       "        -1.91880293e-03,  1.14734005e-01, -4.14641444e-02,\n",
       "        -6.71924841e-02],\n",
       "       [ 0.00000000e+00,  3.22623488e-02,  2.18301129e-02,\n",
       "         8.83595376e-02,  1.46597647e-01,  9.41426155e-03,\n",
       "         1.63376957e-01,  9.96357906e-02, -2.40534851e-05,\n",
       "         5.71531661e-02,  1.33448208e-01,  1.23971481e-01,\n",
       "         3.66356710e-01, -5.07833735e-02,  4.72805836e-03,\n",
       "         6.01843835e-02, -4.04903591e-06, -2.09252528e-01,\n",
       "        -1.80280557e-01, -1.52615891e-01,  7.60621762e-02,\n",
       "         2.09942913e-01,  9.07081717e-02,  1.32884441e-02,\n",
       "        -4.88248571e-05, -9.67967002e-02, -4.92782257e-02,\n",
       "        -2.20420300e-01, -2.52416329e-02,  1.41142799e-01,\n",
       "         1.58023957e-01, -9.44050758e-06,  0.00000000e+00,\n",
       "         3.13927919e-02,  9.74665189e-03, -2.25566908e-02,\n",
       "         1.17013789e-01,  2.18719820e-01,  1.30690741e-01,\n",
       "         0.00000000e+00, -3.20255092e-05,  8.06204387e-03,\n",
       "         1.05560359e-03,  9.60083145e-02,  1.12203536e-01,\n",
       "        -8.43286837e-02, -3.11297164e-02, -1.86638718e-04,\n",
       "        -7.80696930e-05, -4.08537632e-02, -3.55932430e-02,\n",
       "         5.89596707e-02, -2.06631066e-01, -3.21539506e-01,\n",
       "        -8.96574811e-02, -2.73054173e-03, -2.28134017e-05,\n",
       "        -1.85012610e-03, -3.62545589e-02, -1.74072704e-01,\n",
       "        -2.45568851e-01, -2.20970834e-01, -6.13046497e-02,\n",
       "        -7.10487620e-03],\n",
       "       [ 0.00000000e+00, -5.93372469e-02,  2.56900942e-02,\n",
       "        -1.07432983e-01,  1.35482916e-01, -1.01443948e-01,\n",
       "        -1.68146212e-01, -1.07835258e-02,  1.19555288e-02,\n",
       "        -5.04963930e-02,  1.05529650e-01,  5.07882533e-02,\n",
       "        -2.25001332e-01,  1.87539639e-01,  1.28191472e-01,\n",
       "        -6.81423304e-03,  3.88089550e-03, -1.75189305e-02,\n",
       "         8.26787045e-02,  3.10031045e-02,  2.43799316e-02,\n",
       "         1.59491285e-01,  2.07942594e-02, -3.05161113e-03,\n",
       "        -3.76534137e-05,  8.02744072e-02, -6.55380148e-02,\n",
       "         2.94983519e-01, -1.59725382e-01, -2.34382455e-02,\n",
       "         7.56811583e-02, -1.95942813e-05,  0.00000000e+00,\n",
       "        -9.13255504e-02, -9.57931232e-02,  2.11418819e-01,\n",
       "         5.05994128e-02, -1.74250212e-01, -2.99181255e-01,\n",
       "         0.00000000e+00, -2.65547945e-05,  4.68478473e-02,\n",
       "         1.72679511e-01,  1.26796143e-01,  9.19769314e-02,\n",
       "         1.22715446e-02,  8.15995457e-02, -2.22450908e-03,\n",
       "        -1.47690626e-03,  2.91123835e-02,  9.42478512e-02,\n",
       "        -2.44474263e-01, -1.69077510e-01,  1.39459222e-01,\n",
       "         1.45065031e-02, -2.23306269e-02, -4.75872562e-04,\n",
       "        -4.07955208e-02, -1.91587340e-01, -5.31418105e-02,\n",
       "         1.75537848e-01, -2.01078631e-03, -2.74908202e-02,\n",
       "        -4.37789311e-02],\n",
       "       [ 0.00000000e+00, -6.95910494e-02, -7.79248991e-02,\n",
       "         2.14947579e-01,  1.99805621e-01, -7.64642623e-02,\n",
       "         3.84024207e-03, -2.79161413e-02, -1.89765374e-04,\n",
       "         5.48106623e-02,  7.42778415e-02, -9.56054125e-03,\n",
       "        -9.65842954e-02,  8.50930490e-02,  1.16553292e-01,\n",
       "        -3.61970420e-02, -8.70195165e-06,  6.56587386e-02,\n",
       "         2.58806833e-02,  1.32326343e-01,  1.69767956e-01,\n",
       "         4.04640987e-01,  4.43309903e-02, -2.78980427e-02,\n",
       "        -8.59009503e-06, -3.19499330e-02,  1.37354673e-01,\n",
       "         3.01942105e-01,  1.08683574e-01,  1.45407659e-01,\n",
       "        -4.04944619e-02, -1.42146455e-03,  0.00000000e+00,\n",
       "        -2.15155773e-01, -1.24729255e-01,  1.53612875e-01,\n",
       "        -1.28186959e-01,  1.32881978e-02, -5.34419288e-02,\n",
       "         0.00000000e+00, -1.45379735e-05, -1.45622050e-02,\n",
       "        -3.42620751e-01, -6.35872424e-01, -3.51818773e-01,\n",
       "        -1.21342636e-01, -1.51637673e-01, -1.75380356e-04,\n",
       "        -3.63868809e-05,  4.47126814e-02, -1.00344895e-01,\n",
       "        -1.56797479e-01, -1.56285093e-01, -1.79361590e-01,\n",
       "        -4.72809619e-02,  2.92676912e-02, -8.31100538e-06,\n",
       "        -5.69555169e-02, -3.36352654e-02,  4.03353700e-02,\n",
       "         6.95068138e-02, -3.51707600e-02, -6.38624373e-02,\n",
       "        -2.10623120e-04]])"
      ]
     },
     "execution_count": 37,
     "metadata": {},
     "output_type": "execute_result"
    }
   ],
   "source": [
    "clf.coef_"
   ]
  },
  {
   "cell_type": "code",
   "execution_count": 38,
   "id": "5352dc61",
   "metadata": {},
   "outputs": [
    {
     "data": {
      "text/plain": [
       "array([ 0.00061527, -0.03932345,  0.00180298,  0.0043618 ,  0.02769183,\n",
       "        0.0015207 , -0.00252165,  0.00584037,  0.01703716, -0.017025  ])"
      ]
     },
     "execution_count": 38,
     "metadata": {},
     "output_type": "execute_result"
    }
   ],
   "source": [
    "clf.intercept_"
   ]
  },
  {
   "cell_type": "code",
   "execution_count": 39,
   "id": "3f3371e9",
   "metadata": {},
   "outputs": [
    {
     "data": {
      "text/plain": [
       "array([0, 1, 2, 3, 4, 5, 6, 7, 8, 9])"
      ]
     },
     "execution_count": 39,
     "metadata": {},
     "output_type": "execute_result"
    }
   ],
   "source": [
    "clf.classes_"
   ]
  }
 ],
 "metadata": {
  "kernelspec": {
   "display_name": "Python 3 (ipykernel)",
   "language": "python",
   "name": "python3"
  },
  "language_info": {
   "codemirror_mode": {
    "name": "ipython",
    "version": 3
   },
   "file_extension": ".py",
   "mimetype": "text/x-python",
   "name": "python",
   "nbconvert_exporter": "python",
   "pygments_lexer": "ipython3",
   "version": "3.9.12"
  }
 },
 "nbformat": 4,
 "nbformat_minor": 5
}
