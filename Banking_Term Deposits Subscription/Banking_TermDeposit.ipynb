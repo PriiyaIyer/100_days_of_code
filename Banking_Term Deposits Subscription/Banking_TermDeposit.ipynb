{
 "cells": [
  {
   "cell_type": "markdown",
   "id": "cb8e90a5",
   "metadata": {},
   "source": [
    "## Problem Statement & Objective"
   ]
  },
  {
   "cell_type": "raw",
   "id": "5286146a",
   "metadata": {},
   "source": [
    "Telephone marketing required huge investments for engaging call centers, maintaining a historical database and servers for storage.\n",
    "For a telephone marketing campaign of a Bank, the objective is to identify beforehand, the customers most likely to subscribe to a term deposit, thereby the calls placed can be directed specifically to those identified customers."
   ]
  },
  {
   "cell_type": "markdown",
   "id": "6c262e34",
   "metadata": {},
   "source": [
    "## Data Understanding"
   ]
  },
  {
   "cell_type": "code",
   "execution_count": 2,
   "id": "be4798a8",
   "metadata": {},
   "outputs": [],
   "source": [
    "#Importing the libraries\n",
    "\n",
    "import pandas as pd\n",
    "from pandas.api.types import is_numeric_dtype"
   ]
  },
  {
   "cell_type": "code",
   "execution_count": 4,
   "id": "5a09e6ca",
   "metadata": {},
   "outputs": [],
   "source": [
    "df = pd.read_excel('data.xlsx')"
   ]
  },
  {
   "cell_type": "code",
   "execution_count": 5,
   "id": "3394e30e",
   "metadata": {},
   "outputs": [
    {
     "data": {
      "text/html": [
       "<div>\n",
       "<style scoped>\n",
       "    .dataframe tbody tr th:only-of-type {\n",
       "        vertical-align: middle;\n",
       "    }\n",
       "\n",
       "    .dataframe tbody tr th {\n",
       "        vertical-align: top;\n",
       "    }\n",
       "\n",
       "    .dataframe thead th {\n",
       "        text-align: right;\n",
       "    }\n",
       "</style>\n",
       "<table border=\"1\" class=\"dataframe\">\n",
       "  <thead>\n",
       "    <tr style=\"text-align: right;\">\n",
       "      <th></th>\n",
       "      <th>age</th>\n",
       "      <th>job</th>\n",
       "      <th>marital</th>\n",
       "      <th>education</th>\n",
       "      <th>default</th>\n",
       "      <th>balance</th>\n",
       "      <th>housing</th>\n",
       "      <th>loan</th>\n",
       "      <th>contact</th>\n",
       "      <th>day</th>\n",
       "      <th>month</th>\n",
       "      <th>duration</th>\n",
       "      <th>campaign</th>\n",
       "      <th>pdays</th>\n",
       "      <th>previous</th>\n",
       "      <th>poutcome</th>\n",
       "      <th>y</th>\n",
       "    </tr>\n",
       "  </thead>\n",
       "  <tbody>\n",
       "    <tr>\n",
       "      <th>0</th>\n",
       "      <td>58</td>\n",
       "      <td>management</td>\n",
       "      <td>married</td>\n",
       "      <td>tertiary</td>\n",
       "      <td>no</td>\n",
       "      <td>2143</td>\n",
       "      <td>yes</td>\n",
       "      <td>no</td>\n",
       "      <td>unknown</td>\n",
       "      <td>5</td>\n",
       "      <td>may</td>\n",
       "      <td>261</td>\n",
       "      <td>1</td>\n",
       "      <td>-1</td>\n",
       "      <td>0</td>\n",
       "      <td>unknown</td>\n",
       "      <td>no</td>\n",
       "    </tr>\n",
       "    <tr>\n",
       "      <th>1</th>\n",
       "      <td>44</td>\n",
       "      <td>technician</td>\n",
       "      <td>single</td>\n",
       "      <td>secondary</td>\n",
       "      <td>no</td>\n",
       "      <td>29</td>\n",
       "      <td>yes</td>\n",
       "      <td>no</td>\n",
       "      <td>unknown</td>\n",
       "      <td>5</td>\n",
       "      <td>may</td>\n",
       "      <td>151</td>\n",
       "      <td>1</td>\n",
       "      <td>-1</td>\n",
       "      <td>0</td>\n",
       "      <td>unknown</td>\n",
       "      <td>no</td>\n",
       "    </tr>\n",
       "    <tr>\n",
       "      <th>2</th>\n",
       "      <td>33</td>\n",
       "      <td>entrepreneur</td>\n",
       "      <td>married</td>\n",
       "      <td>secondary</td>\n",
       "      <td>no</td>\n",
       "      <td>2</td>\n",
       "      <td>yes</td>\n",
       "      <td>yes</td>\n",
       "      <td>unknown</td>\n",
       "      <td>5</td>\n",
       "      <td>may</td>\n",
       "      <td>76</td>\n",
       "      <td>1</td>\n",
       "      <td>-1</td>\n",
       "      <td>0</td>\n",
       "      <td>unknown</td>\n",
       "      <td>no</td>\n",
       "    </tr>\n",
       "    <tr>\n",
       "      <th>3</th>\n",
       "      <td>47</td>\n",
       "      <td>blue-collar</td>\n",
       "      <td>married</td>\n",
       "      <td>unknown</td>\n",
       "      <td>no</td>\n",
       "      <td>1506</td>\n",
       "      <td>yes</td>\n",
       "      <td>no</td>\n",
       "      <td>unknown</td>\n",
       "      <td>5</td>\n",
       "      <td>may</td>\n",
       "      <td>92</td>\n",
       "      <td>1</td>\n",
       "      <td>-1</td>\n",
       "      <td>0</td>\n",
       "      <td>unknown</td>\n",
       "      <td>no</td>\n",
       "    </tr>\n",
       "    <tr>\n",
       "      <th>4</th>\n",
       "      <td>33</td>\n",
       "      <td>unknown</td>\n",
       "      <td>single</td>\n",
       "      <td>unknown</td>\n",
       "      <td>no</td>\n",
       "      <td>1</td>\n",
       "      <td>no</td>\n",
       "      <td>no</td>\n",
       "      <td>unknown</td>\n",
       "      <td>5</td>\n",
       "      <td>may</td>\n",
       "      <td>198</td>\n",
       "      <td>1</td>\n",
       "      <td>-1</td>\n",
       "      <td>0</td>\n",
       "      <td>unknown</td>\n",
       "      <td>no</td>\n",
       "    </tr>\n",
       "  </tbody>\n",
       "</table>\n",
       "</div>"
      ],
      "text/plain": [
       "   age           job  marital  education default  balance housing loan  \\\n",
       "0   58    management  married   tertiary      no     2143     yes   no   \n",
       "1   44    technician   single  secondary      no       29     yes   no   \n",
       "2   33  entrepreneur  married  secondary      no        2     yes  yes   \n",
       "3   47   blue-collar  married    unknown      no     1506     yes   no   \n",
       "4   33       unknown   single    unknown      no        1      no   no   \n",
       "\n",
       "   contact  day month  duration  campaign  pdays  previous poutcome   y  \n",
       "0  unknown    5   may       261         1     -1         0  unknown  no  \n",
       "1  unknown    5   may       151         1     -1         0  unknown  no  \n",
       "2  unknown    5   may        76         1     -1         0  unknown  no  \n",
       "3  unknown    5   may        92         1     -1         0  unknown  no  \n",
       "4  unknown    5   may       198         1     -1         0  unknown  no  "
      ]
     },
     "execution_count": 5,
     "metadata": {},
     "output_type": "execute_result"
    }
   ],
   "source": [
    "df.head(5)"
   ]
  },
  {
   "cell_type": "code",
   "execution_count": 5,
   "id": "3decd5c9",
   "metadata": {},
   "outputs": [
    {
     "data": {
      "text/plain": [
       "(45211, 17)"
      ]
     },
     "execution_count": 5,
     "metadata": {},
     "output_type": "execute_result"
    }
   ],
   "source": [
    "df.shape"
   ]
  },
  {
   "cell_type": "code",
   "execution_count": 6,
   "id": "ef3b421d",
   "metadata": {},
   "outputs": [
    {
     "data": {
      "text/html": [
       "<div>\n",
       "<style scoped>\n",
       "    .dataframe tbody tr th:only-of-type {\n",
       "        vertical-align: middle;\n",
       "    }\n",
       "\n",
       "    .dataframe tbody tr th {\n",
       "        vertical-align: top;\n",
       "    }\n",
       "\n",
       "    .dataframe thead th {\n",
       "        text-align: right;\n",
       "    }\n",
       "</style>\n",
       "<table border=\"1\" class=\"dataframe\">\n",
       "  <thead>\n",
       "    <tr style=\"text-align: right;\">\n",
       "      <th></th>\n",
       "      <th>age</th>\n",
       "      <th>balance</th>\n",
       "      <th>day</th>\n",
       "      <th>duration</th>\n",
       "      <th>campaign</th>\n",
       "      <th>pdays</th>\n",
       "      <th>previous</th>\n",
       "    </tr>\n",
       "  </thead>\n",
       "  <tbody>\n",
       "    <tr>\n",
       "      <th>count</th>\n",
       "      <td>45211.000000</td>\n",
       "      <td>45211.000000</td>\n",
       "      <td>45211.000000</td>\n",
       "      <td>45211.000000</td>\n",
       "      <td>45211.000000</td>\n",
       "      <td>45211.000000</td>\n",
       "      <td>45211.000000</td>\n",
       "    </tr>\n",
       "    <tr>\n",
       "      <th>mean</th>\n",
       "      <td>40.936210</td>\n",
       "      <td>1362.272058</td>\n",
       "      <td>15.806419</td>\n",
       "      <td>258.163080</td>\n",
       "      <td>2.763841</td>\n",
       "      <td>40.197828</td>\n",
       "      <td>0.580323</td>\n",
       "    </tr>\n",
       "    <tr>\n",
       "      <th>std</th>\n",
       "      <td>10.618762</td>\n",
       "      <td>3044.765829</td>\n",
       "      <td>8.322476</td>\n",
       "      <td>257.527812</td>\n",
       "      <td>3.098021</td>\n",
       "      <td>100.128746</td>\n",
       "      <td>2.303441</td>\n",
       "    </tr>\n",
       "    <tr>\n",
       "      <th>min</th>\n",
       "      <td>18.000000</td>\n",
       "      <td>-8019.000000</td>\n",
       "      <td>1.000000</td>\n",
       "      <td>0.000000</td>\n",
       "      <td>1.000000</td>\n",
       "      <td>-1.000000</td>\n",
       "      <td>0.000000</td>\n",
       "    </tr>\n",
       "    <tr>\n",
       "      <th>25%</th>\n",
       "      <td>33.000000</td>\n",
       "      <td>72.000000</td>\n",
       "      <td>8.000000</td>\n",
       "      <td>103.000000</td>\n",
       "      <td>1.000000</td>\n",
       "      <td>-1.000000</td>\n",
       "      <td>0.000000</td>\n",
       "    </tr>\n",
       "    <tr>\n",
       "      <th>50%</th>\n",
       "      <td>39.000000</td>\n",
       "      <td>448.000000</td>\n",
       "      <td>16.000000</td>\n",
       "      <td>180.000000</td>\n",
       "      <td>2.000000</td>\n",
       "      <td>-1.000000</td>\n",
       "      <td>0.000000</td>\n",
       "    </tr>\n",
       "    <tr>\n",
       "      <th>75%</th>\n",
       "      <td>48.000000</td>\n",
       "      <td>1428.000000</td>\n",
       "      <td>21.000000</td>\n",
       "      <td>319.000000</td>\n",
       "      <td>3.000000</td>\n",
       "      <td>-1.000000</td>\n",
       "      <td>0.000000</td>\n",
       "    </tr>\n",
       "    <tr>\n",
       "      <th>max</th>\n",
       "      <td>95.000000</td>\n",
       "      <td>102127.000000</td>\n",
       "      <td>31.000000</td>\n",
       "      <td>4918.000000</td>\n",
       "      <td>63.000000</td>\n",
       "      <td>871.000000</td>\n",
       "      <td>275.000000</td>\n",
       "    </tr>\n",
       "  </tbody>\n",
       "</table>\n",
       "</div>"
      ],
      "text/plain": [
       "                age        balance           day      duration      campaign  \\\n",
       "count  45211.000000   45211.000000  45211.000000  45211.000000  45211.000000   \n",
       "mean      40.936210    1362.272058     15.806419    258.163080      2.763841   \n",
       "std       10.618762    3044.765829      8.322476    257.527812      3.098021   \n",
       "min       18.000000   -8019.000000      1.000000      0.000000      1.000000   \n",
       "25%       33.000000      72.000000      8.000000    103.000000      1.000000   \n",
       "50%       39.000000     448.000000     16.000000    180.000000      2.000000   \n",
       "75%       48.000000    1428.000000     21.000000    319.000000      3.000000   \n",
       "max       95.000000  102127.000000     31.000000   4918.000000     63.000000   \n",
       "\n",
       "              pdays      previous  \n",
       "count  45211.000000  45211.000000  \n",
       "mean      40.197828      0.580323  \n",
       "std      100.128746      2.303441  \n",
       "min       -1.000000      0.000000  \n",
       "25%       -1.000000      0.000000  \n",
       "50%       -1.000000      0.000000  \n",
       "75%       -1.000000      0.000000  \n",
       "max      871.000000    275.000000  "
      ]
     },
     "execution_count": 6,
     "metadata": {},
     "output_type": "execute_result"
    }
   ],
   "source": [
    "df.describe()"
   ]
  },
  {
   "cell_type": "code",
   "execution_count": 7,
   "id": "a6c3490d",
   "metadata": {},
   "outputs": [
    {
     "data": {
      "text/plain": [
       "age           int64\n",
       "job          object\n",
       "marital      object\n",
       "education    object\n",
       "default      object\n",
       "balance       int64\n",
       "housing      object\n",
       "loan         object\n",
       "contact      object\n",
       "day           int64\n",
       "month        object\n",
       "duration      int64\n",
       "campaign      int64\n",
       "pdays         int64\n",
       "previous      int64\n",
       "poutcome     object\n",
       "y            object\n",
       "dtype: object"
      ]
     },
     "execution_count": 7,
     "metadata": {},
     "output_type": "execute_result"
    }
   ],
   "source": [
    "df.dtypes"
   ]
  },
  {
   "cell_type": "raw",
   "id": "6c7495e0",
   "metadata": {},
   "source": [
    "age - numeric\n",
    "job - categorical\n",
    "marital - categorical\n",
    "education - categorical\n",
    "default - binary(yes/no)\n",
    "balance - numeric\n",
    "housing - binary(yes/no)\n",
    "loan - binary(yes/no)\n",
    "contact - categorical\n",
    "day - numeric\n",
    "month - categorical\n",
    "duration - numeric\n",
    "campaign - numeric\n",
    "pdays - numeric\n",
    "previous - numeric\n",
    "poutcome - categorical\n",
    "y - binary(yes/no)"
   ]
  },
  {
   "cell_type": "markdown",
   "id": "61e124e8",
   "metadata": {},
   "source": [
    "## Data Cleaning"
   ]
  },
  {
   "cell_type": "markdown",
   "id": "d5d7bcd3",
   "metadata": {},
   "source": [
    "### Checking for null values"
   ]
  },
  {
   "cell_type": "code",
   "execution_count": 8,
   "id": "87a9d2c0",
   "metadata": {},
   "outputs": [
    {
     "data": {
      "text/plain": [
       "age          0\n",
       "job          0\n",
       "marital      0\n",
       "education    0\n",
       "default      0\n",
       "balance      0\n",
       "housing      0\n",
       "loan         0\n",
       "contact      0\n",
       "day          0\n",
       "month        0\n",
       "duration     0\n",
       "campaign     0\n",
       "pdays        0\n",
       "previous     0\n",
       "poutcome     0\n",
       "y            0\n",
       "dtype: int64"
      ]
     },
     "execution_count": 8,
     "metadata": {},
     "output_type": "execute_result"
    }
   ],
   "source": [
    "df.isnull().sum()"
   ]
  },
  {
   "cell_type": "markdown",
   "id": "016d72aa",
   "metadata": {},
   "source": [
    "### Analyzing numeric data for outliers and variation"
   ]
  },
  {
   "cell_type": "code",
   "execution_count": 9,
   "id": "49ff27ce",
   "metadata": {
    "scrolled": true
   },
   "outputs": [
    {
     "data": {
      "text/html": [
       "<div>\n",
       "<style scoped>\n",
       "    .dataframe tbody tr th:only-of-type {\n",
       "        vertical-align: middle;\n",
       "    }\n",
       "\n",
       "    .dataframe tbody tr th {\n",
       "        vertical-align: top;\n",
       "    }\n",
       "\n",
       "    .dataframe thead th {\n",
       "        text-align: right;\n",
       "    }\n",
       "</style>\n",
       "<table border=\"1\" class=\"dataframe\">\n",
       "  <thead>\n",
       "    <tr style=\"text-align: right;\">\n",
       "      <th></th>\n",
       "      <th>age</th>\n",
       "      <th>balance</th>\n",
       "      <th>day</th>\n",
       "      <th>duration</th>\n",
       "      <th>campaign</th>\n",
       "      <th>pdays</th>\n",
       "      <th>previous</th>\n",
       "    </tr>\n",
       "  </thead>\n",
       "  <tbody>\n",
       "    <tr>\n",
       "      <th>count</th>\n",
       "      <td>45211.000000</td>\n",
       "      <td>45211.000000</td>\n",
       "      <td>45211.000000</td>\n",
       "      <td>45211.000000</td>\n",
       "      <td>45211.000000</td>\n",
       "      <td>45211.000000</td>\n",
       "      <td>45211.000000</td>\n",
       "    </tr>\n",
       "    <tr>\n",
       "      <th>mean</th>\n",
       "      <td>40.936210</td>\n",
       "      <td>1362.272058</td>\n",
       "      <td>15.806419</td>\n",
       "      <td>258.163080</td>\n",
       "      <td>2.763841</td>\n",
       "      <td>40.197828</td>\n",
       "      <td>0.580323</td>\n",
       "    </tr>\n",
       "    <tr>\n",
       "      <th>std</th>\n",
       "      <td>10.618762</td>\n",
       "      <td>3044.765829</td>\n",
       "      <td>8.322476</td>\n",
       "      <td>257.527812</td>\n",
       "      <td>3.098021</td>\n",
       "      <td>100.128746</td>\n",
       "      <td>2.303441</td>\n",
       "    </tr>\n",
       "    <tr>\n",
       "      <th>min</th>\n",
       "      <td>18.000000</td>\n",
       "      <td>-8019.000000</td>\n",
       "      <td>1.000000</td>\n",
       "      <td>0.000000</td>\n",
       "      <td>1.000000</td>\n",
       "      <td>-1.000000</td>\n",
       "      <td>0.000000</td>\n",
       "    </tr>\n",
       "    <tr>\n",
       "      <th>1%</th>\n",
       "      <td>23.000000</td>\n",
       "      <td>-627.000000</td>\n",
       "      <td>2.000000</td>\n",
       "      <td>11.000000</td>\n",
       "      <td>1.000000</td>\n",
       "      <td>-1.000000</td>\n",
       "      <td>0.000000</td>\n",
       "    </tr>\n",
       "    <tr>\n",
       "      <th>5%</th>\n",
       "      <td>27.000000</td>\n",
       "      <td>-172.000000</td>\n",
       "      <td>3.000000</td>\n",
       "      <td>35.000000</td>\n",
       "      <td>1.000000</td>\n",
       "      <td>-1.000000</td>\n",
       "      <td>0.000000</td>\n",
       "    </tr>\n",
       "    <tr>\n",
       "      <th>10%</th>\n",
       "      <td>29.000000</td>\n",
       "      <td>0.000000</td>\n",
       "      <td>5.000000</td>\n",
       "      <td>58.000000</td>\n",
       "      <td>1.000000</td>\n",
       "      <td>-1.000000</td>\n",
       "      <td>0.000000</td>\n",
       "    </tr>\n",
       "    <tr>\n",
       "      <th>25%</th>\n",
       "      <td>33.000000</td>\n",
       "      <td>72.000000</td>\n",
       "      <td>8.000000</td>\n",
       "      <td>103.000000</td>\n",
       "      <td>1.000000</td>\n",
       "      <td>-1.000000</td>\n",
       "      <td>0.000000</td>\n",
       "    </tr>\n",
       "    <tr>\n",
       "      <th>50%</th>\n",
       "      <td>39.000000</td>\n",
       "      <td>448.000000</td>\n",
       "      <td>16.000000</td>\n",
       "      <td>180.000000</td>\n",
       "      <td>2.000000</td>\n",
       "      <td>-1.000000</td>\n",
       "      <td>0.000000</td>\n",
       "    </tr>\n",
       "    <tr>\n",
       "      <th>75%</th>\n",
       "      <td>48.000000</td>\n",
       "      <td>1428.000000</td>\n",
       "      <td>21.000000</td>\n",
       "      <td>319.000000</td>\n",
       "      <td>3.000000</td>\n",
       "      <td>-1.000000</td>\n",
       "      <td>0.000000</td>\n",
       "    </tr>\n",
       "    <tr>\n",
       "      <th>85%</th>\n",
       "      <td>53.000000</td>\n",
       "      <td>2539.000000</td>\n",
       "      <td>27.000000</td>\n",
       "      <td>437.000000</td>\n",
       "      <td>4.000000</td>\n",
       "      <td>102.000000</td>\n",
       "      <td>1.000000</td>\n",
       "    </tr>\n",
       "    <tr>\n",
       "      <th>90%</th>\n",
       "      <td>56.000000</td>\n",
       "      <td>3574.000000</td>\n",
       "      <td>28.000000</td>\n",
       "      <td>548.000000</td>\n",
       "      <td>5.000000</td>\n",
       "      <td>185.000000</td>\n",
       "      <td>2.000000</td>\n",
       "    </tr>\n",
       "    <tr>\n",
       "      <th>99%</th>\n",
       "      <td>71.000000</td>\n",
       "      <td>13164.900000</td>\n",
       "      <td>31.000000</td>\n",
       "      <td>1269.000000</td>\n",
       "      <td>16.000000</td>\n",
       "      <td>370.000000</td>\n",
       "      <td>8.900000</td>\n",
       "    </tr>\n",
       "    <tr>\n",
       "      <th>max</th>\n",
       "      <td>95.000000</td>\n",
       "      <td>102127.000000</td>\n",
       "      <td>31.000000</td>\n",
       "      <td>4918.000000</td>\n",
       "      <td>63.000000</td>\n",
       "      <td>871.000000</td>\n",
       "      <td>275.000000</td>\n",
       "    </tr>\n",
       "  </tbody>\n",
       "</table>\n",
       "</div>"
      ],
      "text/plain": [
       "                age        balance           day      duration      campaign  \\\n",
       "count  45211.000000   45211.000000  45211.000000  45211.000000  45211.000000   \n",
       "mean      40.936210    1362.272058     15.806419    258.163080      2.763841   \n",
       "std       10.618762    3044.765829      8.322476    257.527812      3.098021   \n",
       "min       18.000000   -8019.000000      1.000000      0.000000      1.000000   \n",
       "1%        23.000000    -627.000000      2.000000     11.000000      1.000000   \n",
       "5%        27.000000    -172.000000      3.000000     35.000000      1.000000   \n",
       "10%       29.000000       0.000000      5.000000     58.000000      1.000000   \n",
       "25%       33.000000      72.000000      8.000000    103.000000      1.000000   \n",
       "50%       39.000000     448.000000     16.000000    180.000000      2.000000   \n",
       "75%       48.000000    1428.000000     21.000000    319.000000      3.000000   \n",
       "85%       53.000000    2539.000000     27.000000    437.000000      4.000000   \n",
       "90%       56.000000    3574.000000     28.000000    548.000000      5.000000   \n",
       "99%       71.000000   13164.900000     31.000000   1269.000000     16.000000   \n",
       "max       95.000000  102127.000000     31.000000   4918.000000     63.000000   \n",
       "\n",
       "              pdays      previous  \n",
       "count  45211.000000  45211.000000  \n",
       "mean      40.197828      0.580323  \n",
       "std      100.128746      2.303441  \n",
       "min       -1.000000      0.000000  \n",
       "1%        -1.000000      0.000000  \n",
       "5%        -1.000000      0.000000  \n",
       "10%       -1.000000      0.000000  \n",
       "25%       -1.000000      0.000000  \n",
       "50%       -1.000000      0.000000  \n",
       "75%       -1.000000      0.000000  \n",
       "85%      102.000000      1.000000  \n",
       "90%      185.000000      2.000000  \n",
       "99%      370.000000      8.900000  \n",
       "max      871.000000    275.000000  "
      ]
     },
     "execution_count": 9,
     "metadata": {},
     "output_type": "execute_result"
    }
   ],
   "source": [
    "df.describe(percentiles=[0.01,0.05,0.10,0.25,0.50,0.75,0.85,0.9,0.99])"
   ]
  },
  {
   "cell_type": "raw",
   "id": "c01993df",
   "metadata": {},
   "source": [
    "pdays and previous have very less variation in data - so dropped\n",
    "\n",
    "Outliers are present in the following\n",
    "Age - both sides\n",
    "balance - both sides\n",
    "day - lower side\n",
    "duration - both sides\n",
    "campaign - upper side"
   ]
  },
  {
   "cell_type": "markdown",
   "id": "9c9309af",
   "metadata": {},
   "source": [
    "### Analysing Categorical/Binary Data"
   ]
  },
  {
   "cell_type": "code",
   "execution_count": 10,
   "id": "ef8f65b7",
   "metadata": {},
   "outputs": [],
   "source": [
    "# print(df['age'].value_counts())\n",
    "# df['age'].quantile(0.01)\n",
    "# age - has outliers on both sides"
   ]
  },
  {
   "cell_type": "code",
   "execution_count": 11,
   "id": "be0f51bf",
   "metadata": {},
   "outputs": [
    {
     "data": {
      "text/plain": [
       "blue-collar      21.525735\n",
       "management       20.919688\n",
       "technician       16.803433\n",
       "admin.           11.437482\n",
       "services          9.188029\n",
       "retired           5.007631\n",
       "self-employed     3.492513\n",
       "entrepreneur      3.289023\n",
       "unemployed        2.882042\n",
       "housemaid         2.742695\n",
       "student           2.074716\n",
       "unknown           0.637013\n",
       "Name: job, dtype: float64"
      ]
     },
     "execution_count": 11,
     "metadata": {},
     "output_type": "execute_result"
    }
   ],
   "source": [
    "df['job'].value_counts()/df['job'].value_counts().sum()*100\n",
    "\n",
    "# Many categories, so we will club the smaller ones into groups ensuring that the each group doesnt exceed 10%\n",
    "# Club the categories self-employed, entrepreneur and housemaid\n",
    "# Club the categories unknown, unemployed and student"
   ]
  },
  {
   "cell_type": "code",
   "execution_count": 12,
   "id": "e745b06e",
   "metadata": {},
   "outputs": [
    {
     "data": {
      "text/plain": [
       "married     60.193316\n",
       "single      28.289576\n",
       "divorced    11.517109\n",
       "Name: marital, dtype: float64"
      ]
     },
     "execution_count": 12,
     "metadata": {},
     "output_type": "execute_result"
    }
   ],
   "source": [
    "df['marital'].value_counts()/df['marital'].value_counts().sum()*100\n",
    "\n",
    "# retained as such as number of categories is less than 5"
   ]
  },
  {
   "cell_type": "code",
   "execution_count": 14,
   "id": "65aa70b4",
   "metadata": {},
   "outputs": [
    {
     "name": "stdout",
     "output_type": "stream",
     "text": [
      "secondary    23202\n",
      "tertiary     13301\n",
      "primary       6851\n",
      "unknown       1857\n",
      "Name: education, dtype: int64\n"
     ]
    },
    {
     "data": {
      "text/plain": [
       "secondary    51.319369\n",
       "tertiary     29.419831\n",
       "primary      15.153392\n",
       "unknown       4.107407\n",
       "Name: education, dtype: float64"
      ]
     },
     "execution_count": 14,
     "metadata": {},
     "output_type": "execute_result"
    }
   ],
   "source": [
    "print(df['education'].value_counts())\n",
    "df['education'].value_counts()/df['education'].value_counts().sum()*100\n",
    "\n",
    "# retained as such as number of categories is less than 5"
   ]
  },
  {
   "cell_type": "code",
   "execution_count": 15,
   "id": "51493ff5",
   "metadata": {},
   "outputs": [
    {
     "name": "stdout",
     "output_type": "stream",
     "text": [
      "no     44396\n",
      "yes      815\n",
      "Name: default, dtype: int64\n"
     ]
    },
    {
     "data": {
      "text/plain": [
       "no     98.197341\n",
       "yes     1.802659\n",
       "Name: default, dtype: float64"
      ]
     },
     "execution_count": 15,
     "metadata": {},
     "output_type": "execute_result"
    }
   ],
   "source": [
    "print(df['default'].value_counts())\n",
    "df['default'].value_counts()/df['default'].value_counts().sum()*100\n",
    "\n",
    "# drop the column 'default' as there is nil/very less variation"
   ]
  },
  {
   "cell_type": "code",
   "execution_count": 16,
   "id": "a09dc626",
   "metadata": {},
   "outputs": [],
   "source": [
    "#print(df['balance'].value_counts()/df['balance'].value_counts().sum()*100)\n",
    "\n",
    "# balance - has outliers on BOTH SIDES"
   ]
  },
  {
   "cell_type": "code",
   "execution_count": 17,
   "id": "0977ca4e",
   "metadata": {},
   "outputs": [
    {
     "data": {
      "text/plain": [
       "yes    55.583818\n",
       "no     44.416182\n",
       "Name: housing, dtype: float64"
      ]
     },
     "execution_count": 17,
     "metadata": {},
     "output_type": "execute_result"
    }
   ],
   "source": [
    "df['housing'].value_counts()/df['housing'].value_counts().sum()*100"
   ]
  },
  {
   "cell_type": "code",
   "execution_count": 18,
   "id": "ea927608",
   "metadata": {},
   "outputs": [
    {
     "data": {
      "text/plain": [
       "no     83.977351\n",
       "yes    16.022649\n",
       "Name: loan, dtype: float64"
      ]
     },
     "execution_count": 18,
     "metadata": {},
     "output_type": "execute_result"
    }
   ],
   "source": [
    "df['loan'].value_counts()/df['loan'].value_counts().sum()*100\n",
    "\n",
    "# drop the column 'loan' as there is very less variation "
   ]
  },
  {
   "cell_type": "code",
   "execution_count": 19,
   "id": "8592c805",
   "metadata": {},
   "outputs": [
    {
     "data": {
      "text/plain": [
       "cellular     64.774059\n",
       "unknown      28.798301\n",
       "telephone     6.427639\n",
       "Name: contact, dtype: float64"
      ]
     },
     "execution_count": 19,
     "metadata": {},
     "output_type": "execute_result"
    }
   ],
   "source": [
    "df['contact'].value_counts()/df['contact'].value_counts().sum()*100\n",
    "\n",
    "# keep for now, will decide on dropping column after initial model building"
   ]
  },
  {
   "cell_type": "code",
   "execution_count": 20,
   "id": "3034513a",
   "metadata": {},
   "outputs": [],
   "source": [
    "#print(df['day'].value_counts()/df['day'].value_counts().sum()*100)\n",
    "\n",
    "# No outliers, treat as discrete, numerical variable (not as categorical)"
   ]
  },
  {
   "cell_type": "code",
   "execution_count": 21,
   "id": "30cad714",
   "metadata": {},
   "outputs": [
    {
     "name": "stdout",
     "output_type": "stream",
     "text": [
      "may    30.448342\n",
      "jul    15.250713\n",
      "aug    13.817434\n",
      "jun    11.813497\n",
      "nov     8.781049\n",
      "apr     6.485147\n",
      "feb     5.859194\n",
      "jan     3.103227\n",
      "oct     1.632346\n",
      "sep     1.280662\n",
      "mar     1.055053\n",
      "dec     0.473336\n",
      "Name: month, dtype: float64\n",
      "\n"
     ]
    }
   ],
   "source": [
    "print(df['month'].value_counts()/df['month'].value_counts().sum()*100)\n",
    "print()\n",
    "\n",
    "# keep for transformation - quarterly/seasonal"
   ]
  },
  {
   "cell_type": "code",
   "execution_count": 22,
   "id": "169d7860",
   "metadata": {},
   "outputs": [],
   "source": [
    "#print(df['duration'].value_counts()/df['duration'].value_counts().sum()*100)\n",
    "\n",
    "# has outliers on both sides"
   ]
  },
  {
   "cell_type": "code",
   "execution_count": 23,
   "id": "9ab11b6b",
   "metadata": {},
   "outputs": [],
   "source": [
    "#print(df['campaign'].value_counts()/df['campaign'].value_counts().sum()*100)\n",
    "\n",
    "# min q1 q2 q3 max\n",
    "#  1  1  2  3  63\n",
    "\n",
    "# has outliers on the higher end- values beyond 99.75 percentile\n",
    "# 25% of data is 1, but the remaining 75% of the data has variation, so retained"
   ]
  },
  {
   "cell_type": "code",
   "execution_count": 24,
   "id": "092f14d7",
   "metadata": {},
   "outputs": [],
   "source": [
    "#print(df['pdays'].value_counts()/df['pdays'].value_counts().sum()*100)\n",
    "\n",
    "# min q1 q2 q3 max\n",
    "# -1 -1  -1 -1 871\n",
    "\n",
    "# pdays dropped as more than 75% of the values are -1"
   ]
  },
  {
   "cell_type": "code",
   "execution_count": 25,
   "id": "7caafc51",
   "metadata": {},
   "outputs": [],
   "source": [
    "#print(df['previous'].value_counts()/df['previous'].value_counts().sum()*100)\n",
    "\n",
    "# min q1 q2 q3 max\n",
    "# 0   0  0  0  271\n",
    "\n",
    "# previous dropped as more than 75% of the values are 0"
   ]
  },
  {
   "cell_type": "code",
   "execution_count": 26,
   "id": "195ce074",
   "metadata": {},
   "outputs": [
    {
     "name": "stdout",
     "output_type": "stream",
     "text": [
      "unknown    81.747805\n",
      "failure    10.840282\n",
      "other       4.069806\n",
      "success     3.342107\n",
      "Name: poutcome, dtype: float64\n"
     ]
    }
   ],
   "source": [
    "print(df['poutcome'].value_counts()/df['poutcome'].value_counts().sum()*100)\n",
    "\n",
    "# poutcome dropped as more than 75% of the values are unknown. no variance"
   ]
  },
  {
   "cell_type": "markdown",
   "id": "aa5535fe",
   "metadata": {},
   "source": [
    "### Summary steps for data cleaning"
   ]
  },
  {
   "cell_type": "raw",
   "id": "28125e09",
   "metadata": {},
   "source": [
    "age ---> outliers \n",
    "job ---> club self-employed, entreprenuer, housmaid to one group and unknown, unemployed, student to another\n",
    "marital --> keep\n",
    "education --> keep\n",
    "default --> drop \n",
    "balance --> outlier \n",
    "housing --> keep\n",
    "loan --> drop \n",
    "contact ---> keep\n",
    "day ----> keep\n",
    "month ---> keep for transformation\n",
    "duration ---> outliers \n",
    "campaign ----> outliers -- 1 1 2 3 63 - keep\n",
    "pdays -----> -1 -1 -1 -1 871 -- drop\n",
    "previous ----> 0 0 0 0 275 -- drop\n",
    "poutcome ----> drop "
   ]
  },
  {
   "cell_type": "markdown",
   "id": "17084f7d",
   "metadata": {},
   "source": [
    "### Dropping columns"
   ]
  },
  {
   "cell_type": "code",
   "execution_count": 91,
   "id": "4efaebd7",
   "metadata": {},
   "outputs": [],
   "source": [
    "df.drop(['default','loan','pdays','previous','poutcome'],axis=1,inplace=True)"
   ]
  },
  {
   "cell_type": "code",
   "execution_count": 92,
   "id": "a97e9741",
   "metadata": {},
   "outputs": [
    {
     "data": {
      "text/html": [
       "<div>\n",
       "<style scoped>\n",
       "    .dataframe tbody tr th:only-of-type {\n",
       "        vertical-align: middle;\n",
       "    }\n",
       "\n",
       "    .dataframe tbody tr th {\n",
       "        vertical-align: top;\n",
       "    }\n",
       "\n",
       "    .dataframe thead th {\n",
       "        text-align: right;\n",
       "    }\n",
       "</style>\n",
       "<table border=\"1\" class=\"dataframe\">\n",
       "  <thead>\n",
       "    <tr style=\"text-align: right;\">\n",
       "      <th></th>\n",
       "      <th>age</th>\n",
       "      <th>job</th>\n",
       "      <th>marital</th>\n",
       "      <th>education</th>\n",
       "      <th>balance</th>\n",
       "      <th>housing</th>\n",
       "      <th>contact</th>\n",
       "      <th>day</th>\n",
       "      <th>month</th>\n",
       "      <th>duration</th>\n",
       "      <th>campaign</th>\n",
       "      <th>y</th>\n",
       "    </tr>\n",
       "  </thead>\n",
       "  <tbody>\n",
       "    <tr>\n",
       "      <th>0</th>\n",
       "      <td>58</td>\n",
       "      <td>management</td>\n",
       "      <td>married</td>\n",
       "      <td>tertiary</td>\n",
       "      <td>2143</td>\n",
       "      <td>yes</td>\n",
       "      <td>unknown</td>\n",
       "      <td>5</td>\n",
       "      <td>may</td>\n",
       "      <td>261</td>\n",
       "      <td>1</td>\n",
       "      <td>no</td>\n",
       "    </tr>\n",
       "    <tr>\n",
       "      <th>1</th>\n",
       "      <td>44</td>\n",
       "      <td>technician</td>\n",
       "      <td>single</td>\n",
       "      <td>secondary</td>\n",
       "      <td>29</td>\n",
       "      <td>yes</td>\n",
       "      <td>unknown</td>\n",
       "      <td>5</td>\n",
       "      <td>may</td>\n",
       "      <td>151</td>\n",
       "      <td>1</td>\n",
       "      <td>no</td>\n",
       "    </tr>\n",
       "    <tr>\n",
       "      <th>2</th>\n",
       "      <td>33</td>\n",
       "      <td>entrepreneur</td>\n",
       "      <td>married</td>\n",
       "      <td>secondary</td>\n",
       "      <td>2</td>\n",
       "      <td>yes</td>\n",
       "      <td>unknown</td>\n",
       "      <td>5</td>\n",
       "      <td>may</td>\n",
       "      <td>76</td>\n",
       "      <td>1</td>\n",
       "      <td>no</td>\n",
       "    </tr>\n",
       "    <tr>\n",
       "      <th>3</th>\n",
       "      <td>47</td>\n",
       "      <td>blue-collar</td>\n",
       "      <td>married</td>\n",
       "      <td>unknown</td>\n",
       "      <td>1506</td>\n",
       "      <td>yes</td>\n",
       "      <td>unknown</td>\n",
       "      <td>5</td>\n",
       "      <td>may</td>\n",
       "      <td>92</td>\n",
       "      <td>1</td>\n",
       "      <td>no</td>\n",
       "    </tr>\n",
       "    <tr>\n",
       "      <th>4</th>\n",
       "      <td>33</td>\n",
       "      <td>unknown</td>\n",
       "      <td>single</td>\n",
       "      <td>unknown</td>\n",
       "      <td>1</td>\n",
       "      <td>no</td>\n",
       "      <td>unknown</td>\n",
       "      <td>5</td>\n",
       "      <td>may</td>\n",
       "      <td>198</td>\n",
       "      <td>1</td>\n",
       "      <td>no</td>\n",
       "    </tr>\n",
       "  </tbody>\n",
       "</table>\n",
       "</div>"
      ],
      "text/plain": [
       "   age           job  marital  education  balance housing  contact  day month  \\\n",
       "0   58    management  married   tertiary     2143     yes  unknown    5   may   \n",
       "1   44    technician   single  secondary       29     yes  unknown    5   may   \n",
       "2   33  entrepreneur  married  secondary        2     yes  unknown    5   may   \n",
       "3   47   blue-collar  married    unknown     1506     yes  unknown    5   may   \n",
       "4   33       unknown   single    unknown        1      no  unknown    5   may   \n",
       "\n",
       "   duration  campaign   y  \n",
       "0       261         1  no  \n",
       "1       151         1  no  \n",
       "2        76         1  no  \n",
       "3        92         1  no  \n",
       "4       198         1  no  "
      ]
     },
     "execution_count": 92,
     "metadata": {},
     "output_type": "execute_result"
    }
   ],
   "source": [
    "df.head()"
   ]
  },
  {
   "cell_type": "markdown",
   "id": "7bd20959",
   "metadata": {},
   "source": [
    "### Capping and flooring of outliers"
   ]
  },
  {
   "cell_type": "code",
   "execution_count": 80,
   "id": "6c0f30df",
   "metadata": {},
   "outputs": [],
   "source": [
    "def Remove_Outlier_IQR(df, col):\n",
    "    Q1=df[col].quantile(0.25)\n",
    "    Q3=df[col].quantile(0.75)\n",
    "    IQR=Q3-Q1\n",
    "    df.loc[(df[col].values < (Q1 - 1.5*IQR), col)] = Q1 - 1.5*IQR\n",
    "    df.loc[(df[col].values > (Q3 + 1.5*IQR), col)] = Q3 + 1.5*IQR\n",
    "    return df"
   ]
  },
  {
   "cell_type": "code",
   "execution_count": 86,
   "id": "140d4b0b",
   "metadata": {},
   "outputs": [
    {
     "data": {
      "text/html": [
       "<div>\n",
       "<style scoped>\n",
       "    .dataframe tbody tr th:only-of-type {\n",
       "        vertical-align: middle;\n",
       "    }\n",
       "\n",
       "    .dataframe tbody tr th {\n",
       "        vertical-align: top;\n",
       "    }\n",
       "\n",
       "    .dataframe thead th {\n",
       "        text-align: right;\n",
       "    }\n",
       "</style>\n",
       "<table border=\"1\" class=\"dataframe\">\n",
       "  <thead>\n",
       "    <tr style=\"text-align: right;\">\n",
       "      <th></th>\n",
       "      <th>age</th>\n",
       "      <th>balance</th>\n",
       "      <th>day</th>\n",
       "      <th>duration</th>\n",
       "      <th>campaign</th>\n",
       "    </tr>\n",
       "  </thead>\n",
       "  <tbody>\n",
       "    <tr>\n",
       "      <th>count</th>\n",
       "      <td>45211.000000</td>\n",
       "      <td>45211.000000</td>\n",
       "      <td>45211.000000</td>\n",
       "      <td>45211.000000</td>\n",
       "      <td>45211.000000</td>\n",
       "    </tr>\n",
       "    <tr>\n",
       "      <th>mean</th>\n",
       "      <td>40.419820</td>\n",
       "      <td>916.785251</td>\n",
       "      <td>189.868352</td>\n",
       "      <td>228.132597</td>\n",
       "      <td>2.431607</td>\n",
       "    </tr>\n",
       "    <tr>\n",
       "      <th>std</th>\n",
       "      <td>12.628309</td>\n",
       "      <td>1133.949339</td>\n",
       "      <td>1329.625308</td>\n",
       "      <td>198.274826</td>\n",
       "      <td>1.800246</td>\n",
       "    </tr>\n",
       "    <tr>\n",
       "      <th>min</th>\n",
       "      <td>6.500000</td>\n",
       "      <td>-317.353000</td>\n",
       "      <td>-317.353000</td>\n",
       "      <td>-247.500000</td>\n",
       "      <td>-2.000000</td>\n",
       "    </tr>\n",
       "    <tr>\n",
       "      <th>1%</th>\n",
       "      <td>6.500000</td>\n",
       "      <td>-317.353000</td>\n",
       "      <td>-317.353000</td>\n",
       "      <td>-247.500000</td>\n",
       "      <td>-2.000000</td>\n",
       "    </tr>\n",
       "    <tr>\n",
       "      <th>50%</th>\n",
       "      <td>39.000000</td>\n",
       "      <td>427.000000</td>\n",
       "      <td>16.000000</td>\n",
       "      <td>174.000000</td>\n",
       "      <td>2.000000</td>\n",
       "    </tr>\n",
       "    <tr>\n",
       "      <th>99%</th>\n",
       "      <td>74.500000</td>\n",
       "      <td>3369.500000</td>\n",
       "      <td>9966.267800</td>\n",
       "      <td>660.500000</td>\n",
       "      <td>6.000000</td>\n",
       "    </tr>\n",
       "    <tr>\n",
       "      <th>max</th>\n",
       "      <td>74.500000</td>\n",
       "      <td>3369.500000</td>\n",
       "      <td>9966.267800</td>\n",
       "      <td>660.500000</td>\n",
       "      <td>6.000000</td>\n",
       "    </tr>\n",
       "  </tbody>\n",
       "</table>\n",
       "</div>"
      ],
      "text/plain": [
       "                age       balance           day      duration      campaign\n",
       "count  45211.000000  45211.000000  45211.000000  45211.000000  45211.000000\n",
       "mean      40.419820    916.785251    189.868352    228.132597      2.431607\n",
       "std       12.628309   1133.949339   1329.625308    198.274826      1.800246\n",
       "min        6.500000   -317.353000   -317.353000   -247.500000     -2.000000\n",
       "1%         6.500000   -317.353000   -317.353000   -247.500000     -2.000000\n",
       "50%       39.000000    427.000000     16.000000    174.000000      2.000000\n",
       "99%       74.500000   3369.500000   9966.267800    660.500000      6.000000\n",
       "max       74.500000   3369.500000   9966.267800    660.500000      6.000000"
      ]
     },
     "execution_count": 86,
     "metadata": {},
     "output_type": "execute_result"
    }
   ],
   "source": [
    "df = Remove_Outlier_IQR(df, 'age')\n",
    "df = Remove_Outlier_IQR(df, 'balance')\n",
    "df = Remove_Outlier_IQR(df, 'duration')\n",
    "df = Remove_Outlier_IQR(df, 'campaign')\n",
    "df.describe(percentiles= [0.01, 0.99])"
   ]
  },
  {
   "cell_type": "markdown",
   "id": "5f98d882",
   "metadata": {},
   "source": [
    "### Grouping "
   ]
  },
  {
   "cell_type": "code",
   "execution_count": 97,
   "id": "f87091ec",
   "metadata": {},
   "outputs": [],
   "source": [
    "df.loc[(df['job'] == 'self-employed', 'job')] = 'Others_1'\n",
    "df.loc[(df['job'] == 'entrepreneur', 'job')] = 'Others_1'\n",
    "df.loc[(df['job'] == 'housemaid', 'job')] = 'Others_1'\n",
    "df.loc[(df['job'] == 'unknown', 'job')] = 'Others_2'\n",
    "df.loc[(df['job'] == 'unemployed', 'job')] = 'Others_2'\n",
    "df.loc[(df['job'] == 'student', 'job')] = 'Others_2'"
   ]
  },
  {
   "cell_type": "code",
   "execution_count": 98,
   "id": "3a144df2",
   "metadata": {},
   "outputs": [
    {
     "name": "stdout",
     "output_type": "stream",
     "text": [
      "blue-collar    9732\n",
      "management     9458\n",
      "technician     7597\n",
      "admin.         5171\n",
      "Others_1       4306\n",
      "services       4154\n",
      "Others_2       2529\n",
      "retired        2264\n",
      "Name: job, dtype: int64\n",
      "\n"
     ]
    },
    {
     "data": {
      "text/plain": [
       "blue-collar    21.525735\n",
       "management     20.919688\n",
       "technician     16.803433\n",
       "admin.         11.437482\n",
       "Others_1        9.524231\n",
       "services        9.188029\n",
       "Others_2        5.593771\n",
       "retired         5.007631\n",
       "Name: job, dtype: float64"
      ]
     },
     "execution_count": 98,
     "metadata": {},
     "output_type": "execute_result"
    }
   ],
   "source": [
    "print(df['job'].value_counts())\n",
    "print()\n",
    "df['job'].value_counts()/df['job'].value_counts().sum()*100"
   ]
  },
  {
   "cell_type": "markdown",
   "id": "fa37727d",
   "metadata": {},
   "source": [
    "## Data Transformation"
   ]
  },
  {
   "cell_type": "code",
   "execution_count": null,
   "id": "b07d6d1b",
   "metadata": {},
   "outputs": [],
   "source": [
    "Age - Binning"
   ]
  },
  {
   "cell_type": "code",
   "execution_count": null,
   "id": "eec66799",
   "metadata": {},
   "outputs": [],
   "source": []
  }
 ],
 "metadata": {
  "kernelspec": {
   "display_name": "Python 3 (ipykernel)",
   "language": "python",
   "name": "python3"
  },
  "language_info": {
   "codemirror_mode": {
    "name": "ipython",
    "version": 3
   },
   "file_extension": ".py",
   "mimetype": "text/x-python",
   "name": "python",
   "nbconvert_exporter": "python",
   "pygments_lexer": "ipython3",
   "version": "3.9.12"
  }
 },
 "nbformat": 4,
 "nbformat_minor": 5
}
